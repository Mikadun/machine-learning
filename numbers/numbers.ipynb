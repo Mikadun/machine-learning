{
 "cells": [
  {
   "cell_type": "code",
   "execution_count": 2,
   "metadata": {},
   "outputs": [],
   "source": [
    "import numpy as np\n",
    "import matplotlib.pyplot as plt\n",
    "import pandas as pd"
   ]
  },
  {
   "cell_type": "code",
   "execution_count": 2,
   "metadata": {},
   "outputs": [
    {
     "output_type": "execute_result",
     "data": {
      "text/plain": [
       "((60000, 784), (60000,))"
      ]
     },
     "metadata": {},
     "execution_count": 2
    }
   ],
   "source": [
    "path_train = 'data/mnist_train.csv'\n",
    "df_train = pd.read_csv(path_train)\n",
    "X_train, y_train = df_train.loc[:, '1x1':'28x28'].to_numpy(), df_train.loc[:,'label'].to_numpy()\n",
    "X_train.shape, y_train.shape"
   ]
  },
  {
   "cell_type": "code",
   "execution_count": 3,
   "metadata": {},
   "outputs": [
    {
     "output_type": "execute_result",
     "data": {
      "text/plain": [
       "((10000, 784), (10000,))"
      ]
     },
     "metadata": {},
     "execution_count": 3
    }
   ],
   "source": [
    "path_test = 'data/mnist_test.csv'\n",
    "df_test = pd.read_csv(path_test)\n",
    "X_test, y_test = df_test.loc[:, '1x1':'28x28'].to_numpy(), df_test.loc[:,'label'].to_numpy()\n",
    "X_test.shape, y_test.shape"
   ]
  },
  {
   "cell_type": "code",
   "execution_count": 4,
   "metadata": {},
   "outputs": [],
   "source": [
    "def render_images(images_array, labels):\n",
    "    n = images_array.shape[0]\n",
    "    for i in range(n):\n",
    "        plt.subplot(1, n, i + 1)\n",
    "        image = 255 - images_array[i].reshape(28, 28).astype(np.uint8)\n",
    "        plt.imshow(image, cmap='gray')\n",
    "        plt.axis('off')\n",
    "        plt.title(labels[i])"
   ]
  },
  {
   "cell_type": "code",
   "execution_count": 5,
   "metadata": {},
   "outputs": [
    {
     "output_type": "display_data",
     "data": {
      "text/plain": "<Figure size 432x288 with 8 Axes>",
      "image/svg+xml": "<?xml version=\"1.0\" encoding=\"utf-8\" standalone=\"no\"?>\r\n<!DOCTYPE svg PUBLIC \"-//W3C//DTD SVG 1.1//EN\"\r\n  \"http://www.w3.org/Graphics/SVG/1.1/DTD/svg11.dtd\">\r\n<!-- Created with matplotlib (https://matplotlib.org/) -->\r\n<svg height=\"65.135146pt\" version=\"1.1\" viewBox=\"0 0 349.2 65.135146\" width=\"349.2pt\" xmlns=\"http://www.w3.org/2000/svg\" xmlns:xlink=\"http://www.w3.org/1999/xlink\">\r\n <metadata>\r\n  <rdf:RDF xmlns:cc=\"http://creativecommons.org/ns#\" xmlns:dc=\"http://purl.org/dc/elements/1.1/\" xmlns:rdf=\"http://www.w3.org/1999/02/22-rdf-syntax-ns#\">\r\n   <cc:Work>\r\n    <dc:type rdf:resource=\"http://purl.org/dc/dcmitype/StillImage\"/>\r\n    <dc:date>2021-04-17T20:10:59.614109</dc:date>\r\n    <dc:format>image/svg+xml</dc:format>\r\n    <dc:creator>\r\n     <cc:Agent>\r\n      <dc:title>Matplotlib v3.3.2, https://matplotlib.org/</dc:title>\r\n     </cc:Agent>\r\n    </dc:creator>\r\n   </cc:Work>\r\n  </rdf:RDF>\r\n </metadata>\r\n <defs>\r\n  <style type=\"text/css\">*{stroke-linecap:butt;stroke-linejoin:round;}</style>\r\n </defs>\r\n <g id=\"figure_1\">\r\n  <g id=\"patch_1\">\r\n   <path d=\"M 0 65.135146 \r\nL 349.2 65.135146 \r\nL 349.2 0 \r\nL 0 0 \r\nz\r\n\" style=\"fill:none;\"/>\r\n  </g>\r\n  <g id=\"axes_1\">\r\n   <g clip-path=\"url(#p9b44fd7d4c)\">\r\n    <image height=\"36\" id=\"image7b0563dfeb\" transform=\"scale(1 -1)translate(0 -36)\" width=\"36\" x=\"7.2\" xlink:href=\"data:image/png;base64,\r\niVBORw0KGgoAAAANSUhEUgAAACQAAAAkCAYAAADhAJiYAAAC50lEQVR4nO2Xu0srQRTGv5mduMsqBBcTYwwSYZU0KwYUO7EQIU208P8SLC2tbEULLWyCaCGIDyw0xWJ8xAe60ZVo3MexuNxwrwiyiTd7Bb9uDszHb87MmTnDiIjwH4mHDfBeP0Cf6XsDnZ6eYmlpCVNTUxgYGMD8/Dyurq7CBVpfX8fu7i5M08TW1ha2t7fDA6rVarAsC5ZlgYhwdHSEnZ2d8IAymQxmZ2fB+a9ppmni8PAQjuN8HREFkOd5dHZ2RrlcjlRVJc456bpOc3NzZNs2eZ4XxO5DBcoQ5xyqqiKTyUAIAQC4v7/H2toaHMfBV1z6gcteCIF4PA5JkgAA1WoVxWIRlUoFnue1Hohzju7ubiiKAs45HMfBzc0NSqUSXl5eWg+kqiry+TxGR0fR1dUFIkKtVsPKygpub2+b37ZGDp7nebSxsUH5fJ7a2tqIc07RaJQWFxfp4uKidYf6tzjnMAwD4+PjGBkZAQDYto1CoYCDg4OmEtTwWxaLxZDNZpHNZuuxk5MTnJ+fhwMEAH19fRgcHKyPZVlGJBIJDyiZTCKdTtfHpmmiXC6HByTLMlKpFCYnJ8EYQ7lcxt7eHjY3N8MBkiQJiUQC09PT6O3thed5KBaLKBQKcF23MdOmapSIHMeh6+tryuVypGkaaZpGExMTdHl5Sa7rtqbs/5QQApqmYXh4GB0dHahUKtjf38fCwgIeHh4CX5Rf0sJKkoSZmRn09PRACIHn52esrq6iWq2GA8QYg67rMAwDyWQSruvCNE28vr6GAwQAmqbBMAyk02n4vg/LsmDbduDmrWGgj1Y+NDQEXdfrHWWpVMLj42MgX9Eo0PHxMeLxODRNq8fGxsbw9PSEu7s7LC8vw3Vd+L4fyLepDL3PkqIoiEQi9Uatv78f0Wi0NUCdnZ2QZfmvGGMMjDH4vg8iQnt7e+C3reEtSyQSH8YVRUEsFkMqlYIQAoyxQL6MgtblP9b3/tu3Qj9An+kN69aDKdm6PcQAAAAASUVORK5CYII=\" y=\"-21.935146\"/>\r\n   </g>\r\n   <g id=\"text_1\">\r\n    <!-- 1 -->\r\n    <g transform=\"translate(21.191011 16.318125)scale(0.12 -0.12)\">\r\n     <defs>\r\n      <path d=\"M 12.40625 8.296875 \r\nL 28.515625 8.296875 \r\nL 28.515625 63.921875 \r\nL 10.984375 60.40625 \r\nL 10.984375 69.390625 \r\nL 28.421875 72.90625 \r\nL 38.28125 72.90625 \r\nL 38.28125 8.296875 \r\nL 54.390625 8.296875 \r\nL 54.390625 0 \r\nL 12.40625 0 \r\nz\r\n\" id=\"DejaVuSans-49\"/>\r\n     </defs>\r\n     <use xlink:href=\"#DejaVuSans-49\"/>\r\n    </g>\r\n   </g>\r\n  </g>\r\n  <g id=\"axes_2\">\r\n   <g clip-path=\"url(#pa200354ae9)\">\r\n    <image height=\"36\" id=\"image6153ec8880\" transform=\"scale(1 -1)translate(0 -36)\" width=\"36\" x=\"49.940426\" xlink:href=\"data:image/png;base64,\r\niVBORw0KGgoAAAANSUhEUgAAACQAAAAkCAYAAADhAJiYAAADh0lEQVR4nO2YzUtqXRTGn33O8aQpnsIGhQb2ISJNDIJAqYykhKJBg6hZ46aNHEfTBv0BTqJGRvQfaEHYIBKhiAyiDlhKigfzo6Oe9Q5e7uW+99LtquXb4D6wB2ewHn5n7bUXe21GRIQvJO7/BvhZf4He01+g9yQ0GlAoFBAOh6FpGiRJgtVqhdvthsFgaD9QoVBAMpnE3t4e6vU6LBYLhoaGkM/nYbVaMTAwAJPJBMZY80TUgC4uLigYDBJj7D+L53mamZmh09NTKpVKjVj+opZqSBAE6HQ6aJqGSCSCtbU1bG5uQpblpj2bBurs7MTS0hLW19cxODgITdMgyzKSySTu7u7aD6RpGmq1GsxmM3w+H3Q6HSqVCrLZLB4fH9sHxPM8AKBSqeD8/BzX19cIBALQ6/XgOA7FYhFPT09NAzV0ykRRhMlk+v59f38PURTh8XggiiJKpRIURWnfltntdszNzcHpdEIQ/v0XWZaxs7MDRVFQr9ebBmkKSK/Xw2azYXV1FV1dXeA4DqqqIpVKfYcxGo3o7e1tDxDHcTCbzVhYWIDX60V/fz9EUcTr6yuICDabDS6XCy6Xq2mghhrjj0qlUhQMBml4eJgYYwSANjY2KBqNkqqqTTfGpoGIiLLZLIXDYZIkiQDQ9PQ0hUKhVixb69SSJMHlcmFlZQU6nQ7xeByHh4fY399v2rMlIJ7n0dfXh8XFRYyMjEBVVVxdXSESiUBRFFAT1/WW70Pd3d2YnZ3F/Pw8LBYL0uk0zs7OEI/HUSwWoWlaY4YtbfgPen5+Jr/fTwaDgRhjJIoiHR0dUTqdbl8N/Zyp5eVlTE5OAgCq1Sq2trZwcnKCarX6xz4fBsRxHHw+H/x+P5xOJwDg5uYGx8fHiMVi7QcCAIfDAa/XC5/PB57noSgKYrEYotEoyuXyn5l8VA19U7lcpkQiQT09PSQIAgmCQB6Phy4vL0nTtPbV0Dfp9Xo4HA4cHBzA7XbDaDRClmWEQiG8vLy8f+o+OkNERJqmkaIotL29TWNjY9TR0UF2u512d3cpk8m0N0MAwBiD2WzG1NQUxsfHYbVakclkkEgkkMvlUKvV3oz91EFxdHQUfr8fExMTMJlMeHh4QD6fR6VSeTOm4UGxETHGEAgEYLFYcHt7i1wuB1VVfx9D9LnvQ0QEVVWRz+fBGIMkSRBF8c1h8tOBGtWXe2z4ckD/AAcZE5qKHaAuAAAAAElFTkSuQmCC\" y=\"-21.935146\"/>\r\n   </g>\r\n   <g id=\"text_2\">\r\n    <!-- 6 -->\r\n    <g transform=\"translate(63.931436 16.318125)scale(0.12 -0.12)\">\r\n     <defs>\r\n      <path d=\"M 33.015625 40.375 \r\nQ 26.375 40.375 22.484375 35.828125 \r\nQ 18.609375 31.296875 18.609375 23.390625 \r\nQ 18.609375 15.53125 22.484375 10.953125 \r\nQ 26.375 6.390625 33.015625 6.390625 \r\nQ 39.65625 6.390625 43.53125 10.953125 \r\nQ 47.40625 15.53125 47.40625 23.390625 \r\nQ 47.40625 31.296875 43.53125 35.828125 \r\nQ 39.65625 40.375 33.015625 40.375 \r\nz\r\nM 52.59375 71.296875 \r\nL 52.59375 62.3125 \r\nQ 48.875 64.0625 45.09375 64.984375 \r\nQ 41.3125 65.921875 37.59375 65.921875 \r\nQ 27.828125 65.921875 22.671875 59.328125 \r\nQ 17.53125 52.734375 16.796875 39.40625 \r\nQ 19.671875 43.65625 24.015625 45.921875 \r\nQ 28.375 48.1875 33.59375 48.1875 \r\nQ 44.578125 48.1875 50.953125 41.515625 \r\nQ 57.328125 34.859375 57.328125 23.390625 \r\nQ 57.328125 12.15625 50.6875 5.359375 \r\nQ 44.046875 -1.421875 33.015625 -1.421875 \r\nQ 20.359375 -1.421875 13.671875 8.265625 \r\nQ 6.984375 17.96875 6.984375 36.375 \r\nQ 6.984375 53.65625 15.1875 63.9375 \r\nQ 23.390625 74.21875 37.203125 74.21875 \r\nQ 40.921875 74.21875 44.703125 73.484375 \r\nQ 48.484375 72.75 52.59375 71.296875 \r\nz\r\n\" id=\"DejaVuSans-54\"/>\r\n     </defs>\r\n     <use xlink:href=\"#DejaVuSans-54\"/>\r\n    </g>\r\n   </g>\r\n  </g>\r\n  <g id=\"axes_3\">\r\n   <g clip-path=\"url(#p25b5dc016f)\">\r\n    <image height=\"36\" id=\"image4400c4b7dc\" transform=\"scale(1 -1)translate(0 -36)\" width=\"36\" x=\"92.680851\" xlink:href=\"data:image/png;base64,\r\niVBORw0KGgoAAAANSUhEUgAAACQAAAAkCAYAAADhAJiYAAAE5ElEQVR4nO2YTWsTbRSGr5lM0rTmS5MgIVXiV2kFqZWgVJciuFHsHxA3xaUUoTv9E670D6goVAqCgto00CxaaKHVZCroooklJm0T0zQxk8mcd+FrsK9pGz+KLt4bZjVz7ueac85znmQUERH+Iql/GuC/0n6nWalUQtd1FhYWOHr0KIcOHSIQCNDV1dW2x2/NUD6f58mTJ9y4cYO7d+8Sj8f5+PHjD3nsSskqlQoPHjxgdHSUqampPw/0VSLCj+6ZXQVaX19ncXGRVCrVdsyuAlWrVebn55mZmWk7ZleBLMsikUjw7NmztmN2fQ7VajWq1Wrbz+8qkKIoAD/U2Lu+yyzLwjAM1tfX24ppe1LX63VM06TRaKCqKqq6+V1UVcWyLGw2Gw6HA8MwAGg0GlQqFTKZDL29vc2s/TJQMpnk7du3ZDIZ9u3bRzAYxGazAV9K43a7cTqdhEIhotEoiUQCRVEwDIMPHz7w8uVLenp6mjFbSdnqtP/06RNLS0tMTk4Sj8dJJpOsra1Rq9WaGfr2bV0uFy6Xi1qtxtraGvl8vnnP4/HQ39/PixcvsNvtP5ehWCzG8+fPmZubY2lpiUKhgGVZdHR0EAgEyGazWJaF3W7H5XKRTqebizUajU1epmlSLpe3BdkWKJvNMjk5yfj4OMvLy2iaRjgcxu/34/f7OXLkCG/evKHRaNDZ2UkwGGRiYoJisUi9XseyrO88LctiZWWFYDCIpm3dKS3vjI+PMz09TTabBcDn8zE8PEw0GqW7u5vjx48zOzuLaZp0dXWxf/9+RkdHSSQSLC8vs7GxsclPRDBNk1gsxoULFwgEAlunSFqop6dHNE0TRVFE0zS5evWqpFIpaTQaYlmWiIhYltW8REQMw5BXr17JzZs3JRKJiKIomy673S4jIyPy/v37Vks21RKov79fnE6nKIoiqqrKyZMnJR6PS6VS2dasWCxKMpmUhw8fyqlTp8ThcDSBVFWVSCQi09PT23q0LNnFixcxTRNd17Esi0wmw9TUFA6Hg76+PjweT8tse71ebDYbpmly7NgxdF2nXq+zZ88eIpEI4XCYzs7Orcu1VQ9dv36dbDbLu3fvqNVqrK6uMjY2RrlcRlEUBgYGsNls3w1HAMMwqFQq+Hw+VFXF6XRy8OBBhoaGGBgYIBQKbQvUsmQiIrdu3ZJwOLypDzwej5w5c0ZmZ2cll8vJ58+fN8WYpinpdFoePXrULNP58+flzp0725bpW20JVCwWJRaLydDQkNhstuYCHR0dEgqFJBqNysjIiIyNjUmhUJBCoSDz8/Ny+/ZtCQaDoiiKdHd3y71796RUKrUNtOVA8Hq99Pb2cvnyZTRNY2ZmhlwuR7VaJZvNUiqVKJfLvH79mqdPnwJf/nUsLi6yurqK2+3m2rVrnD59GrfbvX2Zduqhr/J4PJw7dw63200gEEDXddLpNOVymXw+j67r6LrePEI0TUPTNHw+H319fVy5coXDhw+3DQPbnGWtlEqliMVizM3N8fjxY0qlUnMqq6qK3+9n7969HDhwgOHhYS5durTjrvolIPn3942IcP/+fSYmJlhYWGBlZYXBwUFOnDjB4OAgZ8+eRdO0lrvwtwJ9q1wuR6FQYGNjA8Mw8Hq9uFwuPB4PXq/3Zyx/DWi39Nd9bPgfaCf9D7ST/jqgfwCt4mleHZp0wgAAAABJRU5ErkJggg==\" y=\"-21.935146\"/>\r\n   </g>\r\n   <g id=\"text_3\">\r\n    <!-- 9 -->\r\n    <g transform=\"translate(106.671862 16.318125)scale(0.12 -0.12)\">\r\n     <defs>\r\n      <path d=\"M 10.984375 1.515625 \r\nL 10.984375 10.5 \r\nQ 14.703125 8.734375 18.5 7.8125 \r\nQ 22.3125 6.890625 25.984375 6.890625 \r\nQ 35.75 6.890625 40.890625 13.453125 \r\nQ 46.046875 20.015625 46.78125 33.40625 \r\nQ 43.953125 29.203125 39.59375 26.953125 \r\nQ 35.25 24.703125 29.984375 24.703125 \r\nQ 19.046875 24.703125 12.671875 31.3125 \r\nQ 6.296875 37.9375 6.296875 49.421875 \r\nQ 6.296875 60.640625 12.9375 67.421875 \r\nQ 19.578125 74.21875 30.609375 74.21875 \r\nQ 43.265625 74.21875 49.921875 64.515625 \r\nQ 56.59375 54.828125 56.59375 36.375 \r\nQ 56.59375 19.140625 48.40625 8.859375 \r\nQ 40.234375 -1.421875 26.421875 -1.421875 \r\nQ 22.703125 -1.421875 18.890625 -0.6875 \r\nQ 15.09375 0.046875 10.984375 1.515625 \r\nz\r\nM 30.609375 32.421875 \r\nQ 37.25 32.421875 41.125 36.953125 \r\nQ 45.015625 41.5 45.015625 49.421875 \r\nQ 45.015625 57.28125 41.125 61.84375 \r\nQ 37.25 66.40625 30.609375 66.40625 \r\nQ 23.96875 66.40625 20.09375 61.84375 \r\nQ 16.21875 57.28125 16.21875 49.421875 \r\nQ 16.21875 41.5 20.09375 36.953125 \r\nQ 23.96875 32.421875 30.609375 32.421875 \r\nz\r\n\" id=\"DejaVuSans-57\"/>\r\n     </defs>\r\n     <use xlink:href=\"#DejaVuSans-57\"/>\r\n    </g>\r\n   </g>\r\n  </g>\r\n  <g id=\"axes_4\">\r\n   <g clip-path=\"url(#pa9a7097887)\">\r\n    <image height=\"36\" id=\"image400a044f7f\" transform=\"scale(1 -1)translate(0 -36)\" width=\"36\" x=\"135.421277\" xlink:href=\"data:image/png;base64,\r\niVBORw0KGgoAAAANSUhEUgAAACQAAAAkCAYAAADhAJiYAAAD0ElEQVR4nO2XSy9rbRiGr652qTZ6UlGSpaHZJESqYSBGdYgQ8QOMTIxMzPorhH9gZEZ0IJEYkDrEREmEoDRCnKk6Vilr9f0GsiW+b7C3taOfwb6HT7LuXFm5n8NrEEIIvpGk/xvg3/oL9Ct9OyDTn3wcjUaZm5tjYmKCi4sLWlpaaG1tpbm5GUVRcgu0tbXF5OQk09PTxGIx0uk0kUgETdOw2Wy5Bzo4OCAajbK2toYsy7jdbk5PT1leXsblchEIBFAUBaPRmBsgVVXJZrOYzWYURcHv97OwsEA8HieRSGCz2QiFQtjt9s8ZC53q7u4WHo9HBAIBMTs7KzY2NkRnZ6dwOp3CbDaL+vp6cX5+/mlf3V32+PjI6+srJpMJu91OeXk5Xq8Xp9MJQDab1eWrG0gIwc+tI0kSqVSKh4cHMpkMkiThdruRpM/b686QyWRCkiRUVeX29pa7uzvi8TjJZJL8/Hx+/PiByfR5e91/yOfz4XQ6OTo6YnBwkEgkwtXVFaqqYrFY6OrqwmKxfN5Yb6jHxsZES0uLMJlMwmq1CpfLJWRZFi6XSwSDQXF5eSk0TctdqGtra/H7/SiKwvPzM3d3d2iahtfrpbm5GafTqStDuoHKysrw+/1UV1d/qHs8HgKBALIs6/LVDVRQUEB9fT1NTU0f6mazGYfDoddWP9DNzQ2zs7NMTU19qG9ubjI6OsrNzc37WMgJ0OLiIouLi2xvbwOgKAp2u51kMkkkEmF4eJiHh4fcAS0tLRGPx8lkMng8Hnp6eujo6KC8vJxkMsnMzAwLCwucn5/nBmh5eZmzszOsViu1tbWEQiH6+/tpb2/H7Xazv7/P+Pg4u7u7n/L9owMNoLS0lN7eXgoLCwkGg1RWVhIMBhkZGSGRSJBKpb4W6OXlhfX1dc7Oznh6esJqtVJVVYXBYADe2r6trY3GxkaEENhstq8FymazJBIJ0uk0mqaRzWZ5eXlBVVVkWcZoNGKxWPStDXRkyGAwYLVaMZvNSJLE/f090WiUvb09UqmU7rPjXXp32c8DTZIkIcuyGBgYEKurq+L+/l6oqipUVdXlaxB6phewu7vL0NAQ4XCY6+trjEYjxcXF1NTU0NDQQFFREX19fTgcjvd8/Y50d5nX66WzsxNN05iamiKZTHJ1dcXKygo7Ozvk5eVxcnJCa2vr+8H/pUD5+fnU1dUhyzIlJSUcHx8Ti8U4PDzk6OgIgPn5eSoqKv6zgL8ECN6ONJ/PR3d3N8fHx4TDYebm5lhZWQHeRoTBYCAvL++3PXVn6Kv07d72f4F+pW8H9A/gPcnzj87e0AAAAABJRU5ErkJggg==\" y=\"-21.935146\"/>\r\n   </g>\r\n   <g id=\"text_4\">\r\n    <!-- 8 -->\r\n    <g transform=\"translate(149.412287 16.318125)scale(0.12 -0.12)\">\r\n     <defs>\r\n      <path d=\"M 31.78125 34.625 \r\nQ 24.75 34.625 20.71875 30.859375 \r\nQ 16.703125 27.09375 16.703125 20.515625 \r\nQ 16.703125 13.921875 20.71875 10.15625 \r\nQ 24.75 6.390625 31.78125 6.390625 \r\nQ 38.8125 6.390625 42.859375 10.171875 \r\nQ 46.921875 13.96875 46.921875 20.515625 \r\nQ 46.921875 27.09375 42.890625 30.859375 \r\nQ 38.875 34.625 31.78125 34.625 \r\nz\r\nM 21.921875 38.8125 \r\nQ 15.578125 40.375 12.03125 44.71875 \r\nQ 8.5 49.078125 8.5 55.328125 \r\nQ 8.5 64.0625 14.71875 69.140625 \r\nQ 20.953125 74.21875 31.78125 74.21875 \r\nQ 42.671875 74.21875 48.875 69.140625 \r\nQ 55.078125 64.0625 55.078125 55.328125 \r\nQ 55.078125 49.078125 51.53125 44.71875 \r\nQ 48 40.375 41.703125 38.8125 \r\nQ 48.828125 37.15625 52.796875 32.3125 \r\nQ 56.78125 27.484375 56.78125 20.515625 \r\nQ 56.78125 9.90625 50.3125 4.234375 \r\nQ 43.84375 -1.421875 31.78125 -1.421875 \r\nQ 19.734375 -1.421875 13.25 4.234375 \r\nQ 6.78125 9.90625 6.78125 20.515625 \r\nQ 6.78125 27.484375 10.78125 32.3125 \r\nQ 14.796875 37.15625 21.921875 38.8125 \r\nz\r\nM 18.3125 54.390625 \r\nQ 18.3125 48.734375 21.84375 45.5625 \r\nQ 25.390625 42.390625 31.78125 42.390625 \r\nQ 38.140625 42.390625 41.71875 45.5625 \r\nQ 45.3125 48.734375 45.3125 54.390625 \r\nQ 45.3125 60.0625 41.71875 63.234375 \r\nQ 38.140625 66.40625 31.78125 66.40625 \r\nQ 25.390625 66.40625 21.84375 63.234375 \r\nQ 18.3125 60.0625 18.3125 54.390625 \r\nz\r\n\" id=\"DejaVuSans-56\"/>\r\n     </defs>\r\n     <use xlink:href=\"#DejaVuSans-56\"/>\r\n    </g>\r\n   </g>\r\n  </g>\r\n  <g id=\"axes_5\">\r\n   <g clip-path=\"url(#p672cc8f4c5)\">\r\n    <image height=\"36\" id=\"image814b08214f\" transform=\"scale(1 -1)translate(0 -36)\" width=\"36\" x=\"178.161702\" xlink:href=\"data:image/png;base64,\r\niVBORw0KGgoAAAANSUhEUgAAACQAAAAkCAYAAADhAJiYAAAE0klEQVR4nO2XT2gTaRiHnzST9N+0Q21BRWMKscRqaBstiNKQplI9KF4UTx4Ej/boWfDixYsnBb1o8Sb0YKih9FS0ehIrxSok0Zh4MI2mMySZ2Exm3j3IlnUXNonruh72dxy+751nZp7vne9ziYjwC6Xtvwb4c/4HapRfDkhpZfCHDx9YXV1lcXGRx48fo+s63d3djIyMcOnSJQ4cOICqqj8HaGNjg6dPn3L//n2y2Szv37/HNE3a2trQdR3Lsjh79ixjY2P4/X4UpaVnbQ2oVqvx/PlzFhcXWVpaYt++fYRCIUqlEoZhoOs6Dx8+RFEUDMPg6NGjBINBXC5X60TSII7jSCaTkWg0Kj09PbJ3715JJBKSSqUkHo/L1atXJRaLSXt7u7jdbgkGgzIzMyOlUkkcx2lU/i9pCGRZlly+fFl8Pp9MTEzI7du3xbZtcRxHbNsWy7KkWq3KgwcP5NSpU+Lz+UTTNLlw4YLk8/mWoRquMhHh1atXlMtlstksiUSC2dlZisUiIoKiKHR0dDA5OcnFixeZmprCtm0SiQT37t3j9evXLX2xhg65XC4GBwd5+fIllmVRKpUol8t/GTcwMMD4+DjlcpmNjQ0WFhZ49OgRvb29tLe3EwgEfgxQW1sbp0+f5s2bN1SrVYaGhggGg6iqitvt/mbs7t27OX78OP39/aysrLC8vExPTw+dnZ1NAzV0SOSr2IZhSKlUasoDwzDk+vXr0tfXJ4FAQGZmZqRerzc1tymg36GaFdSyLEmn03L48GHZtm2bjI2NydzcnNi23XBu092rlZ7idrvZuXMnkUgEwzCoVqsUi8Wm5rbUTh3H4cuXL2QyGRzHobu7G1VV0TQNr9f7DXxnZyd+vx9N0/j8+TO1Wu3HA5mmSTqd5sqVK9RqNYaHhwmHw0SjUXbt2vWN5CJCJpNB1/VWbtGc1L9ndXVVrl27JoqiiKIo4vF4RNM0CYVCcvPmTcnlclvNMplMyqFDh0RVVQmFQj/eIQBN0/D5fLhcLmzbBqBSqfDu3Ttu3LjBwsICqqpiWRbr6+ukUin27NnD5OQkExMTtLU13u20DDQ0NMTIyAjJZJJqtYpt25imSTKZ5NOnTyiKQr1exzRNNE3jyJEjTE9PMzAw0NQ9WgLq7e1leHiYM2fOMDc3R6FQwDRNNjc3ERGq1Sr1en3r7e3fv5+TJ08yPT3d9Cp1iXzfqePjx4/k83nS6TRLS0sArK2tkUqlyGazANy5c4djx47h9/ubL9yK1H9MvV6XWq0mlUpFisWiFItFefv2rdy9e1dOnDghLpdLYrGYzM/Pt1T3+7Z1fG1+brcbj8dDV1cXAKqqEo1G6erqIp/Pk0wmefLkCTt27ODgwYNN1f3Hm3wR2XLG4/EwODjI1NQU4XAYXddZWVnhxYsXTdf7R0CWZVGpVCgWiziOs3Xd6/USDofxer3kcjlSqdTPAZqdneXcuXNEIhHi8XjT/6u/y3c7BFAulykUCuRyOW7dukU8HqejowPLslhbW8M0zS3XfgpQIBAgEomwfft2DMPg2bNnbG5uYts25XKZ/v5+RkdHGR0dbbrmd/chAF3XKRQKZLNZ5ufnWV5eZn19fUvy8fFxzp8/TywWo6+v798H+jfyy53t/wdqlF8O6Dfd0459zpGVDwAAAABJRU5ErkJggg==\" y=\"-21.935146\"/>\r\n   </g>\r\n   <g id=\"text_5\">\r\n    <!-- 3 -->\r\n    <g transform=\"translate(192.152713 16.318125)scale(0.12 -0.12)\">\r\n     <defs>\r\n      <path d=\"M 40.578125 39.3125 \r\nQ 47.65625 37.796875 51.625 33 \r\nQ 55.609375 28.21875 55.609375 21.1875 \r\nQ 55.609375 10.40625 48.1875 4.484375 \r\nQ 40.765625 -1.421875 27.09375 -1.421875 \r\nQ 22.515625 -1.421875 17.65625 -0.515625 \r\nQ 12.796875 0.390625 7.625 2.203125 \r\nL 7.625 11.71875 \r\nQ 11.71875 9.328125 16.59375 8.109375 \r\nQ 21.484375 6.890625 26.8125 6.890625 \r\nQ 36.078125 6.890625 40.9375 10.546875 \r\nQ 45.796875 14.203125 45.796875 21.1875 \r\nQ 45.796875 27.640625 41.28125 31.265625 \r\nQ 36.765625 34.90625 28.71875 34.90625 \r\nL 20.21875 34.90625 \r\nL 20.21875 43.015625 \r\nL 29.109375 43.015625 \r\nQ 36.375 43.015625 40.234375 45.921875 \r\nQ 44.09375 48.828125 44.09375 54.296875 \r\nQ 44.09375 59.90625 40.109375 62.90625 \r\nQ 36.140625 65.921875 28.71875 65.921875 \r\nQ 24.65625 65.921875 20.015625 65.03125 \r\nQ 15.375 64.15625 9.8125 62.3125 \r\nL 9.8125 71.09375 \r\nQ 15.4375 72.65625 20.34375 73.4375 \r\nQ 25.25 74.21875 29.59375 74.21875 \r\nQ 40.828125 74.21875 47.359375 69.109375 \r\nQ 53.90625 64.015625 53.90625 55.328125 \r\nQ 53.90625 49.265625 50.4375 45.09375 \r\nQ 46.96875 40.921875 40.578125 39.3125 \r\nz\r\n\" id=\"DejaVuSans-51\"/>\r\n     </defs>\r\n     <use xlink:href=\"#DejaVuSans-51\"/>\r\n    </g>\r\n   </g>\r\n  </g>\r\n  <g id=\"axes_6\">\r\n   <g clip-path=\"url(#p0caed66ef2)\">\r\n    <image height=\"36\" id=\"imagebb149a8719\" transform=\"scale(1 -1)translate(0 -36)\" width=\"36\" x=\"220.902128\" xlink:href=\"data:image/png;base64,\r\niVBORw0KGgoAAAANSUhEUgAAACQAAAAkCAYAAADhAJiYAAADcUlEQVR4nO2WT0sybRTGr1SaMWfKZKhoUas2CUUbC8KCoqD6Du1ctW7Zh2hdLaKVy4KgjRsjCKFIAhMlRlLzT2LTODmj43jexUvyhE/q8Fhuupb3fe4zPw7nXGdAXVQwGCSfz0c8z9POzg6JokiappnKYcE3SFVVnJ6e4vDwEJFIxNTbrgLl83m8vr7CMAyk02mEQiEkk0lUq9XeAGUyGSiKgqGhIVgsFoiiiEQigXw+33EOWzeB3G43eJ6H1+vF/v4+RFGE3++HpmnY3d1FX19f+yTdbGpN06hUKlE8HqfZ2Vnq7+8nhmFofX2dJEn6+aZmGAYcx0EQBGxubmJgYADVahXlchn1er2jHN8yZXa7HRsbG3A6nbDZbNB1HYVCAUTUGyCGYeD1ejE2NgaWZSFJEoLBYO+APiQIAux2O97e3nB1dQVd13sLtLq6iomJCRSLRQQCAWia1raXvhVodHQUHMdB13XkcjlEo1GUy+XeAf2per2O6+tryLLcMu7HgIgIqVQKlUqlZdy3Anm9XkxNTcHhcHT8piUQEUHXddzf3yObzUJVVVNAgiCA4zjYbJ1vqJZAmqbh8fER5+fnCIfDppYkALAsC0EQIAhCd4Cy2SyOj4+xt7eHk5MThMNhU0AAMDMzg8XFRQD4N2NUVRWxWAwHBweN/5uXlxfTQDzPw+l0gogQjUbx/v7eEuxLoJubGwQCAciyDJZlsbKygrm5OdNAH/oYe0mSzAMVCgVEo1E8PDygVqvB4XDA7XZjcnKyo4/XajXE4/EmZy4Wi23XR1P7V6tV3N7e4u7uDolEAsD/29vlcoFhGCiK8imeiGAYxicHLpfLuLi4wPLyMnK5XOMNx3GwWq2dA1UqFYRCIfh8Pjw/P8MwDACAoig4Ozv7a1Orqop0Og2/39+oRr1ehyzL4DiuYR1WqxXb29sYHx+HxfL1LDUBXV5eQpblBgwAyLKMo6Ojv/oJEaFWq32qEBGBiFAqlRpnFosFLMuaqxDDMFhaWkI4HEYsFkMmk0Eul4NhGF/uoMHBQUxPT2N4eLjpLpPJIJlMgojg8XiwtbUFl8tlDmh+fh6pVAqRSASiKOLp6allApfLBY/Hg5GRkaY7URQRi8VARFhbW8PCwgJYlm2Zr486casf1I9t+071C9ROv0Dt9AvUTr9A7fQf4L+tqXgTdbIAAAAASUVORK5CYII=\" y=\"-21.935146\"/>\r\n   </g>\r\n   <g id=\"text_6\">\r\n    <!-- 7 -->\r\n    <g transform=\"translate(234.893138 16.318125)scale(0.12 -0.12)\">\r\n     <defs>\r\n      <path d=\"M 8.203125 72.90625 \r\nL 55.078125 72.90625 \r\nL 55.078125 68.703125 \r\nL 28.609375 0 \r\nL 18.3125 0 \r\nL 43.21875 64.59375 \r\nL 8.203125 64.59375 \r\nz\r\n\" id=\"DejaVuSans-55\"/>\r\n     </defs>\r\n     <use xlink:href=\"#DejaVuSans-55\"/>\r\n    </g>\r\n   </g>\r\n  </g>\r\n  <g id=\"axes_7\">\r\n   <g clip-path=\"url(#pec69453c98)\">\r\n    <image height=\"36\" id=\"image8be6e71a7b\" transform=\"scale(1 -1)translate(0 -36)\" width=\"36\" x=\"263.642553\" xlink:href=\"data:image/png;base64,\r\niVBORw0KGgoAAAANSUhEUgAAACQAAAAkCAYAAADhAJiYAAADaklEQVR4nO3XvUsjTxzH8fcma5KND0QlISoBCRIfgoWxttLKRrALYmHpv+D/YZNWURsLUTiQ9EYDRlJIJPiI4EN2xcSNru7D/IqDgL/mbj3jHdx9ymHmOy9mdmYZSQgh+IPiaUZRVVVJp9MsLS2Rz+d/P8gwDHK5HMVikYeHh98P+pX8XaDT01MeHx9djWkq6O7ujnq97mpMU0EfuVGaCkokEnR2droa82kgVVXRdR3Lshpt4XCYYDDoqo78KwjTNDk7O2NtbY2DgwPa29tJpVKMjIy8g30Z6PLykr29PbLZLH6/n+vra1RVpVQqoes60WiU1tZWVzU/vGVCCA4PD8lms9zf3zM7O8vg4CA3Nzdsbm5SrVbp7+8nFAp9DUjXdXK5HCcnJywsLLC4uMj6+jqZTIb5+flGH9M0vwa0sbFBPp/HsizGx8eRJImWlhYGBgaYmpoC4Pj4GE3Tvgak6zoej4dwOMzg4CAez/dSLS0tKIoCwPPzc3NXyLZtXl9fcRyHarWKz+cjEonQ29vb6CNJEh6PB0mS0DSNl5cXVyBXp6xWq6FpGt3d3RSLRUzTJBwO4/P5Gn28Xi9+vx9ZlikWi1QqleaAzs/PWVlZYXl5mWQySblc5unpCZ/Px9PTE+3t7cD302fbNkIIQqEQfr/fFeintywcDtPV1YXjOBQKBSqVCvV6naurK1ZXV3EcBwDHcbAsC9u2SafTDA8PNwcUDAbp7+8nlUpRrVZ5e3vDtm1UVeXbt29cXFxgGAa6rnN7e4sQgomJCfr6+poD8ng8JBIJpqen37XXajX29/cplUpUKhUuLi44OjoCIJlMEolEXIFcfdQdHR3EYjECgQCGYQDQ1tbG2NgYiUSCra0tdnZ22N3ddYV4F+EilmUJTdNEJpMRPT09QpZl4fV6haIoore3V3R1dQlFUYQsyyIWi4mzszNhWZabKYSrFfJ6vXR0dDA5OUmhUCCfz3Nzc4Nt29i2jWEYCCFoa2sjHo+jKErjwvzZuP7by7JMPB5nZmaGaDTK+fk5pmniOA7lcplKpYJlWYyOjhIIBJAkyd0Ertbzf7FtW5imKV5fX0W9Xhfr6+tibm5ODA0Nie3tbfHy8uK6piTE5z2lHcdpXIqyLLveLoBPBX1G/q6H4kfyD/Sj/AP9KH8c6D9H8VizVSPdqwAAAABJRU5ErkJggg==\" y=\"-21.935146\"/>\r\n   </g>\r\n   <g id=\"text_7\">\r\n    <!-- 9 -->\r\n    <g transform=\"translate(277.633564 16.318125)scale(0.12 -0.12)\">\r\n     <use xlink:href=\"#DejaVuSans-57\"/>\r\n    </g>\r\n   </g>\r\n  </g>\r\n  <g id=\"axes_8\">\r\n   <g clip-path=\"url(#p417676e619)\">\r\n    <image height=\"36\" id=\"imagee9c46c26c6\" transform=\"scale(1 -1)translate(0 -36)\" width=\"36\" x=\"306.382979\" xlink:href=\"data:image/png;base64,\r\niVBORw0KGgoAAAANSUhEUgAAACQAAAAkCAYAAADhAJiYAAAFPklEQVR4nO2YS2gTWxzGv5lJJ6kdm2mjprVgWw3aoFKKbaFS0EV9BFyJIK0rNwWXuhVE6MaduHERUOpr40ZoFQxKkVCrYonKpI1tolnESLSNTdNpEtvpfHdzDdR7r53xwXXhB2cxZ+ac78f5/89rBJLEbyTx/wb4Wr8dkMNuA5L4/PkzFhYWsLy8DABwuVxQFAUVFRUQBOHHiGhDKysrzOfzHB4e5sGDB+n1eun1ennixAmGw2HOz8/b6e5fZQsoFovx4sWL3LRpEysrKylJEiVJoqIo7Ozs5Llz5xgOh38IyHLIdF2HpmkYGhrCzMzMqneLi4uYmprC0tISMpkMZmZmcPTo0e+KmGWg6elpPH/+HJFIBAAgiiLq6+vhcrmQSqWQz+ehaRpyuRwKhQI6OjqwefNmSJJkC8jyLLt58yaGhoaQz+cBAOvWrUNfXx/OnDmDhoYGiKII0zSRTqcxMjKCwcFBLC4u2oIBYD2pT58+zR07dlAQBAqCwJMnTzIcDrNYLDKZTLK9vZ2KolAQBIqiyKqqKr5+/ZpLS0u2cui71yFd12EYBpxOJ+rq6tDf34+mpibIsgySKBaLuHr1KjRNs9Wv5RxSVRXr168vP8fjcYRCIei6jpaWFnR1dWF8fBzLy8uYnp4GSYyMjMDv96OxsREej8eSj+UR8vl8aG5uhqIoAIBXr14hGAziwoULCIVCqK6uRkdHB7Zv315u8/LlS0SjUbx7986qjfUR6uvrw5YtW+B2u3HlyhUAQC6Xw5MnT/D06VNcu3YNkiThw4cP5TaSJEGWZciybBnI1sJYKBSYSCR49uxZNjQ0UJblcpI7nU46nU46HI5y3fnz5xmJRGwlti0gkiyVSnzx4gWDwSADgQBramrKAF+X+/fvc3Z21lb/tmeZ0+mE3+9Hd3c3fD5fOaf+S4ZhlDdhK7INZBgG3r9/j8HBQUSj0VXvBEFYtdvfuHEDY2Nj+PTpk3UDO8NZLBYZi8UYCASoKAolSSqHp66ujj09PWxtbS3XSZLEAwcO8NKlS5ZDZwvowYMHPHbsGGtraymKIgVBoNvtZnd3N+/cucPx8XHeunWLvb29VFWVoiiypqaG7e3tHBgYoGEYa3pYnvaxWAyPHz/G6Ogo5ubmIIoi2tra0NbWhj179mDfvn2orq7Gxo0bIcsySqUSQqEQcrkc4vE4Hj58iP7+ftTW1sLh+Iat1dG5fPkye3p6KAgCAVBVVQ4MDDCRSHBlZWXVt4VCgcPDw/R6vRRFkZIk0e1289mzZ1xYWPimj+WkjsfjSKVS4N+XlP3796Orqwvbtm2DKK7uprKyEkeOHIHH44HD4YBpmigWi0gmkyiVSt/0sX2m/qJIJIJ0Og3DMFaFgCR0Xce9e/eQy+VgmiYcDgdUVcXWrVvhcrl+DlBLSwsmJyeRSCRgmiZmZ2dx9+5d5PP58j4nCAKy2SympqZw/fp1zM/Po6KiAo2Njejt7UVTU9PPA2ptbcXbt28xMTGBdDqNYrGI0dFRpFIp+P1+7Nq1C6IoIpPJYHJyEo8ePYKqqmhubsbevXtx/PhxbNiwYe1bidWkJsmxsTGeOnWKTqezPO2/VQKBAG/fvs1sNmvZwxaQaZqcm5tjMBjkzp07yyfEr4skSfR4PJyYmGCpVLJjQYG0d7c3TRMfP35ENBpFMplEMpmEpmnQNA0kUV9fj927d+Pw4cM4dOgQqqqqbF0ebQN9ka7ryGazyGQyePPmDRKJBEjC4/HA5/Ohs7MTqqr+Y0n4ZUC/Sr/dz4Y/QGvpD9Ba+gseqfgJbghvdQAAAABJRU5ErkJggg==\" y=\"-21.935146\"/>\r\n   </g>\r\n   <g id=\"text_8\">\r\n    <!-- 8 -->\r\n    <g transform=\"translate(320.373989 16.318125)scale(0.12 -0.12)\">\r\n     <use xlink:href=\"#DejaVuSans-56\"/>\r\n    </g>\r\n   </g>\r\n  </g>\r\n </g>\r\n <defs>\r\n  <clipPath id=\"p9b44fd7d4c\">\r\n   <rect height=\"35.617021\" width=\"35.617021\" x=\"7.2\" y=\"22.318125\"/>\r\n  </clipPath>\r\n  <clipPath id=\"pa200354ae9\">\r\n   <rect height=\"35.617021\" width=\"35.617021\" x=\"49.940426\" y=\"22.318125\"/>\r\n  </clipPath>\r\n  <clipPath id=\"p25b5dc016f\">\r\n   <rect height=\"35.617021\" width=\"35.617021\" x=\"92.680851\" y=\"22.318125\"/>\r\n  </clipPath>\r\n  <clipPath id=\"pa9a7097887\">\r\n   <rect height=\"35.617021\" width=\"35.617021\" x=\"135.421277\" y=\"22.318125\"/>\r\n  </clipPath>\r\n  <clipPath id=\"p672cc8f4c5\">\r\n   <rect height=\"35.617021\" width=\"35.617021\" x=\"178.161702\" y=\"22.318125\"/>\r\n  </clipPath>\r\n  <clipPath id=\"p0caed66ef2\">\r\n   <rect height=\"35.617021\" width=\"35.617021\" x=\"220.902128\" y=\"22.318125\"/>\r\n  </clipPath>\r\n  <clipPath id=\"pec69453c98\">\r\n   <rect height=\"35.617021\" width=\"35.617021\" x=\"263.642553\" y=\"22.318125\"/>\r\n  </clipPath>\r\n  <clipPath id=\"p417676e619\">\r\n   <rect height=\"35.617021\" width=\"35.617021\" x=\"306.382979\" y=\"22.318125\"/>\r\n  </clipPath>\r\n </defs>\r\n</svg>\r\n",
      "image/png": "[encoded data removed]"
     },
     "metadata": {
      "needs_background": "light"
     }
    }
   ],
   "source": [
    "samples = 8\n",
    "index = np.random.choice(X_test.shape[0], samples, replace=False)\n",
    "render_images(X_test[index], y_test[index])"
   ]
  },
  {
   "cell_type": "code",
   "execution_count": 6,
   "metadata": {},
   "outputs": [
    {
     "output_type": "execute_result",
     "data": {
      "text/plain": [
       "KNeighborsClassifier(n_neighbors=3)"
      ]
     },
     "metadata": {},
     "execution_count": 6
    }
   ],
   "source": [
    "from sklearn.neighbors import KNeighborsClassifier\n",
    "knn = KNeighborsClassifier(n_neighbors=3)\n",
    "knn.fit(X_train, y_train)"
   ]
  },
  {
   "cell_type": "code",
   "execution_count": 7,
   "metadata": {},
   "outputs": [
    {
     "output_type": "stream",
     "name": "stdout",
     "text": [
      "Прогнозы для тестового набора \n [7 2 1 0 4 1 4 9 5 9]\nМетки тестового набора \n [7 2 1 0 4 1 4 9 5 9]\n"
     ]
    }
   ],
   "source": [
    "test_count = 10\n",
    "y_pred = knn.predict(X_test[:test_count])\n",
    "print('Прогнозы для тестового набора \\n {}'.format(y_pred))\n",
    "print('Метки тестового набора \\n {}'.format(y_test[:test_count]))"
   ]
  },
  {
   "cell_type": "code",
   "execution_count": 8,
   "metadata": {},
   "outputs": [
    {
     "output_type": "stream",
     "name": "stdout",
     "text": [
      "Точность 0.9705\n"
     ]
    }
   ],
   "source": [
    "print('Точность {}'.format(knn.score(X_test, y_test)))"
   ]
  },
  {
   "cell_type": "code",
   "execution_count": 9,
   "metadata": {},
   "outputs": [
    {
     "output_type": "execute_result",
     "data": {
      "text/plain": [
       "KNeighborsClassifier(n_neighbors=3)"
      ]
     },
     "metadata": {},
     "execution_count": 9
    }
   ],
   "source": [
    "X_train_norm, X_test_norm = X_train / 255, X_test / 255\n",
    "knn_norm = KNeighborsClassifier(n_neighbors=3)\n",
    "knn_norm.fit(X_train_norm, y_train)"
   ]
  },
  {
   "cell_type": "code",
   "execution_count": 10,
   "metadata": {},
   "outputs": [
    {
     "output_type": "stream",
     "name": "stdout",
     "text": [
      "Прогнозы для тестового набора \n [7 2 1 0 4 1 4 9 5 9]\nМетки тестового набора \n [7 2 1 0 4 1 4 9 5 9]\n"
     ]
    }
   ],
   "source": [
    "test_count = 10\n",
    "y_pred = knn_norm.predict(X_test_norm[:test_count])\n",
    "print('Прогнозы для тестового набора \\n {}'.format(y_pred))\n",
    "print('Метки тестового набора \\n {}'.format(y_test[:test_count]))"
   ]
  },
  {
   "cell_type": "code",
   "execution_count": 11,
   "metadata": {},
   "outputs": [
    {
     "output_type": "stream",
     "name": "stdout",
     "text": [
      "Точность 0.9705\n"
     ]
    }
   ],
   "source": [
    "print('Точность {}'.format(knn_norm.score(X_test_norm, y_test)))"
   ]
  },
  {
   "cell_type": "code",
   "execution_count": 3,
   "metadata": {},
   "outputs": [],
   "source": [
    "import tensorflow as tf\n",
    "image_path = 'data/image.png'\n",
    "image = tf.keras.preprocessing.image.load_img(image_path, color_mode='grayscale')\n",
    "image_array = tf.keras.preprocessing.image.img_to_array(image).reshape(28 * 28)\n",
    "image_array = 1 - np.array([image_array]) / 255"
   ]
  },
  {
   "cell_type": "code",
   "execution_count": 19,
   "metadata": {},
   "outputs": [
    {
     "output_type": "display_data",
     "data": {
      "text/plain": "<Figure size 432x288 with 1 Axes>",
      "image/svg+xml": "<?xml version=\"1.0\" encoding=\"utf-8\" standalone=\"no\"?>\r\n<!DOCTYPE svg PUBLIC \"-//W3C//DTD SVG 1.1//EN\"\r\n  \"http://www.w3.org/Graphics/SVG/1.1/DTD/svg11.dtd\">\r\n<!-- Created with matplotlib (https://matplotlib.org/) -->\r\n<svg height=\"246.958125pt\" version=\"1.1\" viewBox=\"0 0 231.84 246.958125\" width=\"231.84pt\" xmlns=\"http://www.w3.org/2000/svg\" xmlns:xlink=\"http://www.w3.org/1999/xlink\">\r\n <metadata>\r\n  <rdf:RDF xmlns:cc=\"http://creativecommons.org/ns#\" xmlns:dc=\"http://purl.org/dc/elements/1.1/\" xmlns:rdf=\"http://www.w3.org/1999/02/22-rdf-syntax-ns#\">\r\n   <cc:Work>\r\n    <dc:type rdf:resource=\"http://purl.org/dc/dcmitype/StillImage\"/>\r\n    <dc:date>2021-04-17T18:10:14.026358</dc:date>\r\n    <dc:format>image/svg+xml</dc:format>\r\n    <dc:creator>\r\n     <cc:Agent>\r\n      <dc:title>Matplotlib v3.3.2, https://matplotlib.org/</dc:title>\r\n     </cc:Agent>\r\n    </dc:creator>\r\n   </cc:Work>\r\n  </rdf:RDF>\r\n </metadata>\r\n <defs>\r\n  <style type=\"text/css\">*{stroke-linecap:butt;stroke-linejoin:round;}</style>\r\n </defs>\r\n <g id=\"figure_1\">\r\n  <g id=\"patch_1\">\r\n   <path d=\"M 0 246.958125 \r\nL 231.84 246.958125 \r\nL 231.84 0 \r\nL 0 0 \r\nz\r\n\" style=\"fill:none;\"/>\r\n  </g>\r\n  <g id=\"axes_1\">\r\n   <g clip-path=\"url(#pf456f6fffc)\">\r\n    <image height=\"218\" id=\"imagef7b654019d\" transform=\"scale(1 -1)translate(0 -218)\" width=\"218\" x=\"7.2\" xlink:href=\"data:image/png;base64,\r\niVBORw0KGgoAAAANSUhEUgAAANoAAADaCAYAAADAHVzbAAAC0ElEQVR4nO3cUWrDMBQAwark/ldWT9CkqfFKjmd+A0Y/ywM9lDHnnF/Aqb5XHwDuQGgQEBoEhAYBoUFAaBAQGgSEBgGhQUBoEBAaBIQGAaFBQGgQEBoEhAYBoUFAaBAQGgSEBgGhQUBoEBAaBIQGAaFBQGgQEBoEhAYBoUFAaBAQGgSEBgGhQUBoEBAaBIQGAaFBQGgQEBoEhAYBoUFAaBAQGgSEBgGhQUBoEHisPgDvG2M8/X3OGZ2EvzLRICA0CAgNAkKDgNAgIDQICA0C9mgfyJ5tPyYaBIQGAaFBQGgQEBoEhAYB1/sbenU9z/WYaBAQGgSEBgGhQUBoEBAaBIQGAaFBQGgQEBoEhAYBoUFAaBAQGgSEBgGhQUBoEBAaBIQGAaFBQGgQEBoEhAYBoUFAaBAQGgSEBgGhQUBoEBAaBIQGAaFBQGgQEBoEhAYBoUFAaBAQGgSEBgGhQUBoEBAaBIQGAaFBQGgQEBoEhAYBoUFAaBAQGgSEBgGhQUBoEBAaBIQGAaFBQGgQEBoEhAYBoUFAaBAQGgQeqw+wqzHGad+ec572bfZkokFAaBAQGgSEBgGhQUBoEHC9v8CZqwP2ZKJBQGgQEBoEhAYBoUFAaBAQGgTs0X7x6imLXRjvMNEgIDQICA0CQoOA0CAgNAgIDQL2aP905C/j7ODux0SDgNAgIDQICA0CQoOA0CAgNAjYoy3grdv9mGgQEBoEhAYBoUFAaBAQGgSEBgF7tA0d3bMdeSvHOUw0CAgNAkKDgNAgIDQICA0CrvcvyPX99ZhoEBAaBIQGAaFBQGgQEBoEhAYBoUFAaBAQGgSEBgGhQUBoEBAaBIQGAaFBQGgQEBoEhAYBoUFAaBAQGgSEBgGhQUBoEBAaBIQGAaFBQGgQEBoEhAYBoUFAaBAQGgSEBgGhQUBoEBAaBIQGAaFBQGgQEBoEhAYBoUFAaBAQGgR+AGMLIMSqofEAAAAAAElFTkSuQmCC\" y=\"-21.758125\"/>\r\n   </g>\r\n   <g id=\"text_1\">\r\n    <!-- 1 -->\r\n    <g transform=\"translate(112.1025 16.318125)scale(0.12 -0.12)\">\r\n     <defs>\r\n      <path d=\"M 12.40625 8.296875 \r\nL 28.515625 8.296875 \r\nL 28.515625 63.921875 \r\nL 10.984375 60.40625 \r\nL 10.984375 69.390625 \r\nL 28.421875 72.90625 \r\nL 38.28125 72.90625 \r\nL 38.28125 8.296875 \r\nL 54.390625 8.296875 \r\nL 54.390625 0 \r\nL 12.40625 0 \r\nz\r\n\" id=\"DejaVuSans-49\"/>\r\n     </defs>\r\n     <use xlink:href=\"#DejaVuSans-49\"/>\r\n    </g>\r\n   </g>\r\n  </g>\r\n </g>\r\n <defs>\r\n  <clipPath id=\"pf456f6fffc\">\r\n   <rect height=\"217.44\" width=\"217.44\" x=\"7.2\" y=\"22.318125\"/>\r\n  </clipPath>\r\n </defs>\r\n</svg>\r\n",
      "image/png": "[encoded data removed]"
     },
     "metadata": {
      "needs_background": "light"
     }
    }
   ],
   "source": [
    "prediction = knn.predict(image_array)\n",
    "render_images(image_array, prediction)"
   ]
  }
 ],
 "metadata": {
  "kernelspec": {
   "name": "python385jvsc74a57bd0d3acb8e28670f8ddcd81341eafffe0240db2f69c592c08b807be7bf254ed2b94",
   "display_name": "Python 3.8.5 64-bit ('base': conda)"
  },
  "language_info": {
   "codemirror_mode": {
    "name": "ipython",
    "version": 3
   },
   "file_extension": ".py",
   "mimetype": "text/x-python",
   "name": "python",
   "nbconvert_exporter": "python",
   "pygments_lexer": "ipython3",
   "version": "3.8.5"
  }
 },
 "nbformat": 4,
 "nbformat_minor": 2
}