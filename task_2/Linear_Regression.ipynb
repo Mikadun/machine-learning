{
 "cells": [
  {
   "cell_type": "code",
   "execution_count": 1,
   "metadata": {},
   "outputs": [
    {
     "output_type": "execute_result",
     "data": {
      "text/plain": [
       "<matplotlib.collections.PathCollection at 0x263e7acc220>"
      ]
     },
     "metadata": {},
     "execution_count": 1
    },
    {
     "output_type": "display_data",
     "data": {
      "text/plain": "<Figure size 432x288 with 1 Axes>",
      "image/svg+xml": "<?xml version=\"1.0\" encoding=\"utf-8\" standalone=\"no\"?>\r\n<!DOCTYPE svg PUBLIC \"-//W3C//DTD SVG 1.1//EN\"\r\n  \"http://www.w3.org/Graphics/SVG/1.1/DTD/svg11.dtd\">\r\n<!-- Created with matplotlib (https://matplotlib.org/) -->\r\n<svg height=\"248.518125pt\" version=\"1.1\" viewBox=\"0 0 370.942187 248.518125\" width=\"370.942187pt\" xmlns=\"http://www.w3.org/2000/svg\" xmlns:xlink=\"http://www.w3.org/1999/xlink\">\r\n <metadata>\r\n  <rdf:RDF xmlns:cc=\"http://creativecommons.org/ns#\" xmlns:dc=\"http://purl.org/dc/elements/1.1/\" xmlns:rdf=\"http://www.w3.org/1999/02/22-rdf-syntax-ns#\">\r\n   <cc:Work>\r\n    <dc:type rdf:resource=\"http://purl.org/dc/dcmitype/StillImage\"/>\r\n    <dc:date>2021-03-23T16:38:15.754312</dc:date>\r\n    <dc:format>image/svg+xml</dc:format>\r\n    <dc:creator>\r\n     <cc:Agent>\r\n      <dc:title>Matplotlib v3.3.2, https://matplotlib.org/</dc:title>\r\n     </cc:Agent>\r\n    </dc:creator>\r\n   </cc:Work>\r\n  </rdf:RDF>\r\n </metadata>\r\n <defs>\r\n  <style type=\"text/css\">*{stroke-linecap:butt;stroke-linejoin:round;}</style>\r\n </defs>\r\n <g id=\"figure_1\">\r\n  <g id=\"patch_1\">\r\n   <path d=\"M 0 248.518125 \r\nL 370.942187 248.518125 \r\nL 370.942187 0 \r\nL 0 0 \r\nz\r\n\" style=\"fill:none;\"/>\r\n  </g>\r\n  <g id=\"axes_1\">\r\n   <g id=\"patch_2\">\r\n    <path d=\"M 28.942188 224.64 \r\nL 363.742188 224.64 \r\nL 363.742188 7.2 \r\nL 28.942188 7.2 \r\nz\r\n\" style=\"fill:#ffffff;\"/>\r\n   </g>\r\n   <g id=\"PathCollection_1\">\r\n    <defs>\r\n     <path d=\"M 0 3 \r\nC 0.795609 3 1.55874 2.683901 2.12132 2.12132 \r\nC 2.683901 1.55874 3 0.795609 3 0 \r\nC 3 -0.795609 2.683901 -1.55874 2.12132 -2.12132 \r\nC 1.55874 -2.683901 0.795609 -3 0 -3 \r\nC -0.795609 -3 -1.55874 -2.683901 -2.12132 -2.12132 \r\nC -2.683901 -1.55874 -3 -0.795609 -3 0 \r\nC -3 0.795609 -2.683901 1.55874 -2.12132 2.12132 \r\nC -1.55874 2.683901 -0.795609 3 0 3 \r\nz\r\n\" id=\"mc60aa1cd8e\" style=\"stroke:#1f77b4;\"/>\r\n    </defs>\r\n    <g clip-path=\"url(#pfba751cfe5)\">\r\n     <use style=\"fill:#1f77b4;stroke:#1f77b4;\" x=\"157.642244\" xlink:href=\"#mc60aa1cd8e\" y=\"122.764116\"/>\r\n     <use style=\"fill:#1f77b4;stroke:#1f77b4;\" x=\"342.369713\" xlink:href=\"#mc60aa1cd8e\" y=\"87.333192\"/>\r\n     <use style=\"fill:#1f77b4;stroke:#1f77b4;\" x=\"272.245677\" xlink:href=\"#mc60aa1cd8e\" y=\"66.964354\"/>\r\n     <use style=\"fill:#1f77b4;stroke:#1f77b4;\" x=\"229.496935\" xlink:href=\"#mc60aa1cd8e\" y=\"100.799546\"/>\r\n     <use style=\"fill:#1f77b4;stroke:#1f77b4;\" x=\"87.581973\" xlink:href=\"#mc60aa1cd8e\" y=\"165.471224\"/>\r\n     <use style=\"fill:#1f77b4;stroke:#1f77b4;\" x=\"87.57424\" xlink:href=\"#mc60aa1cd8e\" y=\"214.756364\"/>\r\n     <use style=\"fill:#1f77b4;stroke:#1f77b4;\" x=\"56.182979\" xlink:href=\"#mc60aa1cd8e\" y=\"171.815668\"/>\r\n     <use style=\"fill:#1f77b4;stroke:#1f77b4;\" x=\"315.265895\" xlink:href=\"#mc60aa1cd8e\" y=\"34.469724\"/>\r\n     <use style=\"fill:#1f77b4;stroke:#1f77b4;\" x=\"230.284524\" xlink:href=\"#mc60aa1cd8e\" y=\"56.918327\"/>\r\n     <use style=\"fill:#1f77b4;stroke:#1f77b4;\" x=\"264.576238\" xlink:href=\"#mc60aa1cd8e\" y=\"91.954494\"/>\r\n     <use style=\"fill:#1f77b4;stroke:#1f77b4;\" x=\"44.160369\" xlink:href=\"#mc60aa1cd8e\" y=\"150.564178\"/>\r\n     <use style=\"fill:#1f77b4;stroke:#1f77b4;\" x=\"348.524006\" xlink:href=\"#mc60aa1cd8e\" y=\"66.980579\"/>\r\n     <use style=\"fill:#1f77b4;stroke:#1f77b4;\" x=\"304.45058\" xlink:href=\"#mc60aa1cd8e\" y=\"68.106798\"/>\r\n     <use style=\"fill:#1f77b4;stroke:#1f77b4;\" x=\"105.638904\" xlink:href=\"#mc60aa1cd8e\" y=\"171.196975\"/>\r\n     <use style=\"fill:#1f77b4;stroke:#1f77b4;\" x=\"95.855751\" xlink:href=\"#mc60aa1cd8e\" y=\"178.43987\"/>\r\n     <use style=\"fill:#1f77b4;stroke:#1f77b4;\" x=\"96.362169\" xlink:href=\"#mc60aa1cd8e\" y=\"143.526342\"/>\r\n     <use style=\"fill:#1f77b4;stroke:#1f77b4;\" x=\"135.10401\" xlink:href=\"#mc60aa1cd8e\" y=\"98.549148\"/>\r\n     <use style=\"fill:#1f77b4;stroke:#1f77b4;\" x=\"205.803164\" xlink:href=\"#mc60aa1cd8e\" y=\"126.360905\"/>\r\n     <use style=\"fill:#1f77b4;stroke:#1f77b4;\" x=\"176.046855\" xlink:href=\"#mc60aa1cd8e\" y=\"126.988175\"/>\r\n     <use style=\"fill:#1f77b4;stroke:#1f77b4;\" x=\"130.931873\" xlink:href=\"#mc60aa1cd8e\" y=\"117.886021\"/>\r\n     <use style=\"fill:#1f77b4;stroke:#1f77b4;\" x=\"233.727201\" xlink:href=\"#mc60aa1cd8e\" y=\"92.489953\"/>\r\n     <use style=\"fill:#1f77b4;stroke:#1f77b4;\" x=\"82.283956\" xlink:href=\"#mc60aa1cd8e\" y=\"153.514097\"/>\r\n     <use style=\"fill:#1f77b4;stroke:#1f77b4;\" x=\"131.225394\" xlink:href=\"#mc60aa1cd8e\" y=\"85.434676\"/>\r\n     <use style=\"fill:#1f77b4;stroke:#1f77b4;\" x=\"155.020203\" xlink:href=\"#mc60aa1cd8e\" y=\"97.954665\"/>\r\n     <use style=\"fill:#1f77b4;stroke:#1f77b4;\" x=\"183.781571\" xlink:href=\"#mc60aa1cd8e\" y=\"147.217927\"/>\r\n     <use style=\"fill:#1f77b4;stroke:#1f77b4;\" x=\"289.296389\" xlink:href=\"#mc60aa1cd8e\" y=\"58.435187\"/>\r\n     <use style=\"fill:#1f77b4;stroke:#1f77b4;\" x=\"101.578268\" xlink:href=\"#mc60aa1cd8e\" y=\"153.962262\"/>\r\n     <use style=\"fill:#1f77b4;stroke:#1f77b4;\" x=\"202.429703\" xlink:href=\"#mc60aa1cd8e\" y=\"70.661552\"/>\r\n     <use style=\"fill:#1f77b4;stroke:#1f77b4;\" x=\"227.495071\" xlink:href=\"#mc60aa1cd8e\" y=\"82.545143\"/>\r\n     <use style=\"fill:#1f77b4;stroke:#1f77b4;\" x=\"52.453253\" xlink:href=\"#mc60aa1cd8e\" y=\"145.869691\"/>\r\n     <use style=\"fill:#1f77b4;stroke:#1f77b4;\" x=\"232.345998\" xlink:href=\"#mc60aa1cd8e\" y=\"100.78591\"/>\r\n     <use style=\"fill:#1f77b4;stroke:#1f77b4;\" x=\"92.232582\" xlink:href=\"#mc60aa1cd8e\" y=\"197.203549\"/>\r\n     <use style=\"fill:#1f77b4;stroke:#1f77b4;\" x=\"58.416986\" xlink:href=\"#mc60aa1cd8e\" y=\"123.940967\"/>\r\n     <use style=\"fill:#1f77b4;stroke:#1f77b4;\" x=\"341.78339\" xlink:href=\"#mc60aa1cd8e\" y=\"32.519142\"/>\r\n     <use style=\"fill:#1f77b4;stroke:#1f77b4;\" x=\"347.152492\" xlink:href=\"#mc60aa1cd8e\" y=\"62.890896\"/>\r\n     <use style=\"fill:#1f77b4;stroke:#1f77b4;\" x=\"296.741408\" xlink:href=\"#mc60aa1cd8e\" y=\"17.083636\"/>\r\n     <use style=\"fill:#1f77b4;stroke:#1f77b4;\" x=\"135.223125\" xlink:href=\"#mc60aa1cd8e\" y=\"98.092753\"/>\r\n     <use style=\"fill:#1f77b4;stroke:#1f77b4;\" x=\"68.875466\" xlink:href=\"#mc60aa1cd8e\" y=\"166.711607\"/>\r\n     <use style=\"fill:#1f77b4;stroke:#1f77b4;\" x=\"256.933028\" xlink:href=\"#mc60aa1cd8e\" y=\"90.825925\"/>\r\n     <use style=\"fill:#1f77b4;stroke:#1f77b4;\" x=\"178.678257\" xlink:href=\"#mc60aa1cd8e\" y=\"98.117168\"/>\r\n    </g>\r\n   </g>\r\n   <g id=\"matplotlib.axis_1\">\r\n    <g id=\"xtick_1\">\r\n     <g id=\"line2d_1\">\r\n      <defs>\r\n       <path d=\"M 0 0 \r\nL 0 3.5 \r\n\" id=\"mf9446f20d9\" style=\"stroke:#000000;stroke-width:0.8;\"/>\r\n      </defs>\r\n      <g>\r\n       <use style=\"stroke:#000000;stroke-width:0.8;\" x=\"37.560765\" xlink:href=\"#mf9446f20d9\" y=\"224.64\"/>\r\n      </g>\r\n     </g>\r\n     <g id=\"text_1\">\r\n      <!-- −3 -->\r\n      <g transform=\"translate(30.189671 239.238438)scale(0.1 -0.1)\">\r\n       <defs>\r\n        <path d=\"M 10.59375 35.5 \r\nL 73.1875 35.5 \r\nL 73.1875 27.203125 \r\nL 10.59375 27.203125 \r\nz\r\n\" id=\"DejaVuSans-8722\"/>\r\n        <path d=\"M 40.578125 39.3125 \r\nQ 47.65625 37.796875 51.625 33 \r\nQ 55.609375 28.21875 55.609375 21.1875 \r\nQ 55.609375 10.40625 48.1875 4.484375 \r\nQ 40.765625 -1.421875 27.09375 -1.421875 \r\nQ 22.515625 -1.421875 17.65625 -0.515625 \r\nQ 12.796875 0.390625 7.625 2.203125 \r\nL 7.625 11.71875 \r\nQ 11.71875 9.328125 16.59375 8.109375 \r\nQ 21.484375 6.890625 26.8125 6.890625 \r\nQ 36.078125 6.890625 40.9375 10.546875 \r\nQ 45.796875 14.203125 45.796875 21.1875 \r\nQ 45.796875 27.640625 41.28125 31.265625 \r\nQ 36.765625 34.90625 28.71875 34.90625 \r\nL 20.21875 34.90625 \r\nL 20.21875 43.015625 \r\nL 29.109375 43.015625 \r\nQ 36.375 43.015625 40.234375 45.921875 \r\nQ 44.09375 48.828125 44.09375 54.296875 \r\nQ 44.09375 59.90625 40.109375 62.90625 \r\nQ 36.140625 65.921875 28.71875 65.921875 \r\nQ 24.65625 65.921875 20.015625 65.03125 \r\nQ 15.375 64.15625 9.8125 62.3125 \r\nL 9.8125 71.09375 \r\nQ 15.4375 72.65625 20.34375 73.4375 \r\nQ 25.25 74.21875 29.59375 74.21875 \r\nQ 40.828125 74.21875 47.359375 69.109375 \r\nQ 53.90625 64.015625 53.90625 55.328125 \r\nQ 53.90625 49.265625 50.4375 45.09375 \r\nQ 46.96875 40.921875 40.578125 39.3125 \r\nz\r\n\" id=\"DejaVuSans-51\"/>\r\n       </defs>\r\n       <use xlink:href=\"#DejaVuSans-8722\"/>\r\n       <use x=\"83.789062\" xlink:href=\"#DejaVuSans-51\"/>\r\n      </g>\r\n     </g>\r\n    </g>\r\n    <g id=\"xtick_2\">\r\n     <g id=\"line2d_2\">\r\n      <g>\r\n       <use style=\"stroke:#000000;stroke-width:0.8;\" x=\"90.995841\" xlink:href=\"#mf9446f20d9\" y=\"224.64\"/>\r\n      </g>\r\n     </g>\r\n     <g id=\"text_2\">\r\n      <!-- −2 -->\r\n      <g transform=\"translate(83.624748 239.238438)scale(0.1 -0.1)\">\r\n       <defs>\r\n        <path d=\"M 19.1875 8.296875 \r\nL 53.609375 8.296875 \r\nL 53.609375 0 \r\nL 7.328125 0 \r\nL 7.328125 8.296875 \r\nQ 12.9375 14.109375 22.625 23.890625 \r\nQ 32.328125 33.6875 34.8125 36.53125 \r\nQ 39.546875 41.84375 41.421875 45.53125 \r\nQ 43.3125 49.21875 43.3125 52.78125 \r\nQ 43.3125 58.59375 39.234375 62.25 \r\nQ 35.15625 65.921875 28.609375 65.921875 \r\nQ 23.96875 65.921875 18.8125 64.3125 \r\nQ 13.671875 62.703125 7.8125 59.421875 \r\nL 7.8125 69.390625 \r\nQ 13.765625 71.78125 18.9375 73 \r\nQ 24.125 74.21875 28.421875 74.21875 \r\nQ 39.75 74.21875 46.484375 68.546875 \r\nQ 53.21875 62.890625 53.21875 53.421875 \r\nQ 53.21875 48.921875 51.53125 44.890625 \r\nQ 49.859375 40.875 45.40625 35.40625 \r\nQ 44.1875 33.984375 37.640625 27.21875 \r\nQ 31.109375 20.453125 19.1875 8.296875 \r\nz\r\n\" id=\"DejaVuSans-50\"/>\r\n       </defs>\r\n       <use xlink:href=\"#DejaVuSans-8722\"/>\r\n       <use x=\"83.789062\" xlink:href=\"#DejaVuSans-50\"/>\r\n      </g>\r\n     </g>\r\n    </g>\r\n    <g id=\"xtick_3\">\r\n     <g id=\"line2d_3\">\r\n      <g>\r\n       <use style=\"stroke:#000000;stroke-width:0.8;\" x=\"144.430917\" xlink:href=\"#mf9446f20d9\" y=\"224.64\"/>\r\n      </g>\r\n     </g>\r\n     <g id=\"text_3\">\r\n      <!-- −1 -->\r\n      <g transform=\"translate(137.059824 239.238438)scale(0.1 -0.1)\">\r\n       <defs>\r\n        <path d=\"M 12.40625 8.296875 \r\nL 28.515625 8.296875 \r\nL 28.515625 63.921875 \r\nL 10.984375 60.40625 \r\nL 10.984375 69.390625 \r\nL 28.421875 72.90625 \r\nL 38.28125 72.90625 \r\nL 38.28125 8.296875 \r\nL 54.390625 8.296875 \r\nL 54.390625 0 \r\nL 12.40625 0 \r\nz\r\n\" id=\"DejaVuSans-49\"/>\r\n       </defs>\r\n       <use xlink:href=\"#DejaVuSans-8722\"/>\r\n       <use x=\"83.789062\" xlink:href=\"#DejaVuSans-49\"/>\r\n      </g>\r\n     </g>\r\n    </g>\r\n    <g id=\"xtick_4\">\r\n     <g id=\"line2d_4\">\r\n      <g>\r\n       <use style=\"stroke:#000000;stroke-width:0.8;\" x=\"197.865993\" xlink:href=\"#mf9446f20d9\" y=\"224.64\"/>\r\n      </g>\r\n     </g>\r\n     <g id=\"text_4\">\r\n      <!-- 0 -->\r\n      <g transform=\"translate(194.684743 239.238438)scale(0.1 -0.1)\">\r\n       <defs>\r\n        <path d=\"M 31.78125 66.40625 \r\nQ 24.171875 66.40625 20.328125 58.90625 \r\nQ 16.5 51.421875 16.5 36.375 \r\nQ 16.5 21.390625 20.328125 13.890625 \r\nQ 24.171875 6.390625 31.78125 6.390625 \r\nQ 39.453125 6.390625 43.28125 13.890625 \r\nQ 47.125 21.390625 47.125 36.375 \r\nQ 47.125 51.421875 43.28125 58.90625 \r\nQ 39.453125 66.40625 31.78125 66.40625 \r\nz\r\nM 31.78125 74.21875 \r\nQ 44.046875 74.21875 50.515625 64.515625 \r\nQ 56.984375 54.828125 56.984375 36.375 \r\nQ 56.984375 17.96875 50.515625 8.265625 \r\nQ 44.046875 -1.421875 31.78125 -1.421875 \r\nQ 19.53125 -1.421875 13.0625 8.265625 \r\nQ 6.59375 17.96875 6.59375 36.375 \r\nQ 6.59375 54.828125 13.0625 64.515625 \r\nQ 19.53125 74.21875 31.78125 74.21875 \r\nz\r\n\" id=\"DejaVuSans-48\"/>\r\n       </defs>\r\n       <use xlink:href=\"#DejaVuSans-48\"/>\r\n      </g>\r\n     </g>\r\n    </g>\r\n    <g id=\"xtick_5\">\r\n     <g id=\"line2d_5\">\r\n      <g>\r\n       <use style=\"stroke:#000000;stroke-width:0.8;\" x=\"251.30107\" xlink:href=\"#mf9446f20d9\" y=\"224.64\"/>\r\n      </g>\r\n     </g>\r\n     <g id=\"text_5\">\r\n      <!-- 1 -->\r\n      <g transform=\"translate(248.11982 239.238438)scale(0.1 -0.1)\">\r\n       <use xlink:href=\"#DejaVuSans-49\"/>\r\n      </g>\r\n     </g>\r\n    </g>\r\n    <g id=\"xtick_6\">\r\n     <g id=\"line2d_6\">\r\n      <g>\r\n       <use style=\"stroke:#000000;stroke-width:0.8;\" x=\"304.736146\" xlink:href=\"#mf9446f20d9\" y=\"224.64\"/>\r\n      </g>\r\n     </g>\r\n     <g id=\"text_6\">\r\n      <!-- 2 -->\r\n      <g transform=\"translate(301.554896 239.238438)scale(0.1 -0.1)\">\r\n       <use xlink:href=\"#DejaVuSans-50\"/>\r\n      </g>\r\n     </g>\r\n    </g>\r\n    <g id=\"xtick_7\">\r\n     <g id=\"line2d_7\">\r\n      <g>\r\n       <use style=\"stroke:#000000;stroke-width:0.8;\" x=\"358.171222\" xlink:href=\"#mf9446f20d9\" y=\"224.64\"/>\r\n      </g>\r\n     </g>\r\n     <g id=\"text_7\">\r\n      <!-- 3 -->\r\n      <g transform=\"translate(354.989972 239.238438)scale(0.1 -0.1)\">\r\n       <use xlink:href=\"#DejaVuSans-51\"/>\r\n      </g>\r\n     </g>\r\n    </g>\r\n   </g>\r\n   <g id=\"matplotlib.axis_2\">\r\n    <g id=\"ytick_1\">\r\n     <g id=\"line2d_8\">\r\n      <defs>\r\n       <path d=\"M 0 0 \r\nL -3.5 0 \r\n\" id=\"ma8859eeafb\" style=\"stroke:#000000;stroke-width:0.8;\"/>\r\n      </defs>\r\n      <g>\r\n       <use style=\"stroke:#000000;stroke-width:0.8;\" x=\"28.942188\" xlink:href=\"#ma8859eeafb\" y=\"193.302599\"/>\r\n      </g>\r\n     </g>\r\n     <g id=\"text_8\">\r\n      <!-- −2 -->\r\n      <g transform=\"translate(7.2 197.101818)scale(0.1 -0.1)\">\r\n       <use xlink:href=\"#DejaVuSans-8722\"/>\r\n       <use x=\"83.789062\" xlink:href=\"#DejaVuSans-50\"/>\r\n      </g>\r\n     </g>\r\n    </g>\r\n    <g id=\"ytick_2\">\r\n     <g id=\"line2d_9\">\r\n      <g>\r\n       <use style=\"stroke:#000000;stroke-width:0.8;\" x=\"28.942188\" xlink:href=\"#ma8859eeafb\" y=\"147.84608\"/>\r\n      </g>\r\n     </g>\r\n     <g id=\"text_9\">\r\n      <!-- −1 -->\r\n      <g transform=\"translate(7.2 151.645299)scale(0.1 -0.1)\">\r\n       <use xlink:href=\"#DejaVuSans-8722\"/>\r\n       <use x=\"83.789062\" xlink:href=\"#DejaVuSans-49\"/>\r\n      </g>\r\n     </g>\r\n    </g>\r\n    <g id=\"ytick_3\">\r\n     <g id=\"line2d_10\">\r\n      <g>\r\n       <use style=\"stroke:#000000;stroke-width:0.8;\" x=\"28.942188\" xlink:href=\"#ma8859eeafb\" y=\"102.389562\"/>\r\n      </g>\r\n     </g>\r\n     <g id=\"text_10\">\r\n      <!-- 0 -->\r\n      <g transform=\"translate(15.579688 106.188781)scale(0.1 -0.1)\">\r\n       <use xlink:href=\"#DejaVuSans-48\"/>\r\n      </g>\r\n     </g>\r\n    </g>\r\n    <g id=\"ytick_4\">\r\n     <g id=\"line2d_11\">\r\n      <g>\r\n       <use style=\"stroke:#000000;stroke-width:0.8;\" x=\"28.942188\" xlink:href=\"#ma8859eeafb\" y=\"56.933043\"/>\r\n      </g>\r\n     </g>\r\n     <g id=\"text_11\">\r\n      <!-- 1 -->\r\n      <g transform=\"translate(15.579688 60.732262)scale(0.1 -0.1)\">\r\n       <use xlink:href=\"#DejaVuSans-49\"/>\r\n      </g>\r\n     </g>\r\n    </g>\r\n    <g id=\"ytick_5\">\r\n     <g id=\"line2d_12\">\r\n      <g>\r\n       <use style=\"stroke:#000000;stroke-width:0.8;\" x=\"28.942188\" xlink:href=\"#ma8859eeafb\" y=\"11.476524\"/>\r\n      </g>\r\n     </g>\r\n     <g id=\"text_12\">\r\n      <!-- 2 -->\r\n      <g transform=\"translate(15.579688 15.275743)scale(0.1 -0.1)\">\r\n       <use xlink:href=\"#DejaVuSans-50\"/>\r\n      </g>\r\n     </g>\r\n    </g>\r\n   </g>\r\n   <g id=\"patch_3\">\r\n    <path d=\"M 28.942188 224.64 \r\nL 28.942188 7.2 \r\n\" style=\"fill:none;stroke:#000000;stroke-linecap:square;stroke-linejoin:miter;stroke-width:0.8;\"/>\r\n   </g>\r\n   <g id=\"patch_4\">\r\n    <path d=\"M 363.742188 224.64 \r\nL 363.742188 7.2 \r\n\" style=\"fill:none;stroke:#000000;stroke-linecap:square;stroke-linejoin:miter;stroke-width:0.8;\"/>\r\n   </g>\r\n   <g id=\"patch_5\">\r\n    <path d=\"M 28.942187 224.64 \r\nL 363.742188 224.64 \r\n\" style=\"fill:none;stroke:#000000;stroke-linecap:square;stroke-linejoin:miter;stroke-width:0.8;\"/>\r\n   </g>\r\n   <g id=\"patch_6\">\r\n    <path d=\"M 28.942187 7.2 \r\nL 363.742188 7.2 \r\n\" style=\"fill:none;stroke:#000000;stroke-linecap:square;stroke-linejoin:miter;stroke-width:0.8;\"/>\r\n   </g>\r\n  </g>\r\n </g>\r\n <defs>\r\n  <clipPath id=\"pfba751cfe5\">\r\n   <rect height=\"217.44\" width=\"334.8\" x=\"28.942188\" y=\"7.2\"/>\r\n  </clipPath>\r\n </defs>\r\n</svg>\r\n",
      "image/png": "[encoded data removed]"
     },
     "metadata": {
      "needs_background": "light"
     }
    }
   ],
   "source": [
    "from matplotlib import pyplot as plt\n",
    "from mglearn import datasets\n",
    "x, y  = datasets.make_wave(n_samples = 40)\n",
    "plt.scatter(x,y)"
   ]
  },
  {
   "cell_type": "code",
   "execution_count": 2,
   "metadata": {},
   "outputs": [
    {
     "output_type": "execute_result",
     "data": {
      "text/plain": [
       "<matplotlib.collections.PathCollection at 0x263e7bf2520>"
      ]
     },
     "metadata": {},
     "execution_count": 2
    },
    {
     "output_type": "display_data",
     "data": {
      "text/plain": "<Figure size 432x288 with 1 Axes>",
      "image/svg+xml": "<?xml version=\"1.0\" encoding=\"utf-8\" standalone=\"no\"?>\r\n<!DOCTYPE svg PUBLIC \"-//W3C//DTD SVG 1.1//EN\"\r\n  \"http://www.w3.org/Graphics/SVG/1.1/DTD/svg11.dtd\">\r\n<!-- Created with matplotlib (https://matplotlib.org/) -->\r\n<svg height=\"248.518125pt\" version=\"1.1\" viewBox=\"0 0 370.942187 248.518125\" width=\"370.942187pt\" xmlns=\"http://www.w3.org/2000/svg\" xmlns:xlink=\"http://www.w3.org/1999/xlink\">\r\n <metadata>\r\n  <rdf:RDF xmlns:cc=\"http://creativecommons.org/ns#\" xmlns:dc=\"http://purl.org/dc/elements/1.1/\" xmlns:rdf=\"http://www.w3.org/1999/02/22-rdf-syntax-ns#\">\r\n   <cc:Work>\r\n    <dc:type rdf:resource=\"http://purl.org/dc/dcmitype/StillImage\"/>\r\n    <dc:date>2021-03-23T16:38:16.066132</dc:date>\r\n    <dc:format>image/svg+xml</dc:format>\r\n    <dc:creator>\r\n     <cc:Agent>\r\n      <dc:title>Matplotlib v3.3.2, https://matplotlib.org/</dc:title>\r\n     </cc:Agent>\r\n    </dc:creator>\r\n   </cc:Work>\r\n  </rdf:RDF>\r\n </metadata>\r\n <defs>\r\n  <style type=\"text/css\">*{stroke-linecap:butt;stroke-linejoin:round;}</style>\r\n </defs>\r\n <g id=\"figure_1\">\r\n  <g id=\"patch_1\">\r\n   <path d=\"M 0 248.518125 \r\nL 370.942187 248.518125 \r\nL 370.942187 0 \r\nL 0 0 \r\nz\r\n\" style=\"fill:none;\"/>\r\n  </g>\r\n  <g id=\"axes_1\">\r\n   <g id=\"patch_2\">\r\n    <path d=\"M 28.942188 224.64 \r\nL 363.742188 224.64 \r\nL 363.742188 7.2 \r\nL 28.942188 7.2 \r\nz\r\n\" style=\"fill:#ffffff;\"/>\r\n   </g>\r\n   <g id=\"PathCollection_1\">\r\n    <defs>\r\n     <path d=\"M 0 3 \r\nC 0.795609 3 1.55874 2.683901 2.12132 2.12132 \r\nC 2.683901 1.55874 3 0.795609 3 0 \r\nC 3 -0.795609 2.683901 -1.55874 2.12132 -2.12132 \r\nC 1.55874 -2.683901 0.795609 -3 0 -3 \r\nC -0.795609 -3 -1.55874 -2.683901 -2.12132 -2.12132 \r\nC -2.683901 -1.55874 -3 -0.795609 -3 0 \r\nC -3 0.795609 -2.683901 1.55874 -2.12132 2.12132 \r\nC -1.55874 2.683901 -0.795609 3 0 3 \r\nz\r\n\" id=\"m8332c0b135\" style=\"stroke:#1f77b4;\"/>\r\n    </defs>\r\n    <g clip-path=\"url(#pf41206c6a4)\">\r\n     <use style=\"fill:#1f77b4;stroke:#1f77b4;\" x=\"202.429703\" xlink:href=\"#m8332c0b135\" y=\"70.661552\"/>\r\n     <use style=\"fill:#1f77b4;stroke:#1f77b4;\" x=\"296.741408\" xlink:href=\"#m8332c0b135\" y=\"17.083636\"/>\r\n     <use style=\"fill:#1f77b4;stroke:#1f77b4;\" x=\"68.875466\" xlink:href=\"#m8332c0b135\" y=\"166.711607\"/>\r\n     <use style=\"fill:#1f77b4;stroke:#1f77b4;\" x=\"272.245677\" xlink:href=\"#m8332c0b135\" y=\"66.964354\"/>\r\n     <use style=\"fill:#1f77b4;stroke:#1f77b4;\" x=\"178.678257\" xlink:href=\"#m8332c0b135\" y=\"98.117168\"/>\r\n     <use style=\"fill:#1f77b4;stroke:#1f77b4;\" x=\"232.345998\" xlink:href=\"#m8332c0b135\" y=\"100.78591\"/>\r\n     <use style=\"fill:#1f77b4;stroke:#1f77b4;\" x=\"347.152492\" xlink:href=\"#m8332c0b135\" y=\"62.890896\"/>\r\n     <use style=\"fill:#1f77b4;stroke:#1f77b4;\" x=\"135.10401\" xlink:href=\"#m8332c0b135\" y=\"98.549148\"/>\r\n     <use style=\"fill:#1f77b4;stroke:#1f77b4;\" x=\"135.223125\" xlink:href=\"#m8332c0b135\" y=\"98.092753\"/>\r\n     <use style=\"fill:#1f77b4;stroke:#1f77b4;\" x=\"230.284524\" xlink:href=\"#m8332c0b135\" y=\"56.918327\"/>\r\n     <use style=\"fill:#1f77b4;stroke:#1f77b4;\" x=\"105.638904\" xlink:href=\"#m8332c0b135\" y=\"171.196975\"/>\r\n     <use style=\"fill:#1f77b4;stroke:#1f77b4;\" x=\"87.57424\" xlink:href=\"#m8332c0b135\" y=\"214.756364\"/>\r\n     <use style=\"fill:#1f77b4;stroke:#1f77b4;\" x=\"205.803164\" xlink:href=\"#m8332c0b135\" y=\"126.360905\"/>\r\n     <use style=\"fill:#1f77b4;stroke:#1f77b4;\" x=\"95.855751\" xlink:href=\"#m8332c0b135\" y=\"178.43987\"/>\r\n     <use style=\"fill:#1f77b4;stroke:#1f77b4;\" x=\"341.78339\" xlink:href=\"#m8332c0b135\" y=\"32.519142\"/>\r\n     <use style=\"fill:#1f77b4;stroke:#1f77b4;\" x=\"315.265895\" xlink:href=\"#m8332c0b135\" y=\"34.469724\"/>\r\n     <use style=\"fill:#1f77b4;stroke:#1f77b4;\" x=\"58.416986\" xlink:href=\"#m8332c0b135\" y=\"123.940967\"/>\r\n     <use style=\"fill:#1f77b4;stroke:#1f77b4;\" x=\"342.369713\" xlink:href=\"#m8332c0b135\" y=\"87.333192\"/>\r\n     <use style=\"fill:#1f77b4;stroke:#1f77b4;\" x=\"101.578268\" xlink:href=\"#m8332c0b135\" y=\"153.962262\"/>\r\n     <use style=\"fill:#1f77b4;stroke:#1f77b4;\" x=\"304.45058\" xlink:href=\"#m8332c0b135\" y=\"68.106798\"/>\r\n     <use style=\"fill:#1f77b4;stroke:#1f77b4;\" x=\"92.232582\" xlink:href=\"#m8332c0b135\" y=\"197.203549\"/>\r\n     <use style=\"fill:#1f77b4;stroke:#1f77b4;\" x=\"183.781571\" xlink:href=\"#m8332c0b135\" y=\"147.217927\"/>\r\n     <use style=\"fill:#1f77b4;stroke:#1f77b4;\" x=\"56.182979\" xlink:href=\"#m8332c0b135\" y=\"171.815668\"/>\r\n     <use style=\"fill:#1f77b4;stroke:#1f77b4;\" x=\"155.020203\" xlink:href=\"#m8332c0b135\" y=\"97.954665\"/>\r\n     <use style=\"fill:#1f77b4;stroke:#1f77b4;\" x=\"82.283956\" xlink:href=\"#m8332c0b135\" y=\"153.514097\"/>\r\n     <use style=\"fill:#1f77b4;stroke:#1f77b4;\" x=\"130.931873\" xlink:href=\"#m8332c0b135\" y=\"117.886021\"/>\r\n     <use style=\"fill:#1f77b4;stroke:#1f77b4;\" x=\"264.576238\" xlink:href=\"#m8332c0b135\" y=\"91.954494\"/>\r\n     <use style=\"fill:#1f77b4;stroke:#1f77b4;\" x=\"256.933028\" xlink:href=\"#m8332c0b135\" y=\"90.825925\"/>\r\n     <use style=\"fill:#1f77b4;stroke:#1f77b4;\" x=\"229.496935\" xlink:href=\"#m8332c0b135\" y=\"100.799546\"/>\r\n     <use style=\"fill:#1f77b4;stroke:#1f77b4;\" x=\"157.642244\" xlink:href=\"#m8332c0b135\" y=\"122.764116\"/>\r\n    </g>\r\n   </g>\r\n   <g id=\"PathCollection_2\">\r\n    <defs>\r\n     <path d=\"M 0 3 \r\nC 0.795609 3 1.55874 2.683901 2.12132 2.12132 \r\nC 2.683901 1.55874 3 0.795609 3 0 \r\nC 3 -0.795609 2.683901 -1.55874 2.12132 -2.12132 \r\nC 1.55874 -2.683901 0.795609 -3 0 -3 \r\nC -0.795609 -3 -1.55874 -2.683901 -2.12132 -2.12132 \r\nC -2.683901 -1.55874 -3 -0.795609 -3 0 \r\nC -3 0.795609 -2.683901 1.55874 -2.12132 2.12132 \r\nC -1.55874 2.683901 -0.795609 3 0 3 \r\nz\r\n\" id=\"med6db725de\" style=\"stroke:#ff7f0e;\"/>\r\n    </defs>\r\n    <g clip-path=\"url(#pf41206c6a4)\">\r\n     <use style=\"fill:#ff7f0e;stroke:#ff7f0e;\" x=\"131.225394\" xlink:href=\"#med6db725de\" y=\"85.434676\"/>\r\n     <use style=\"fill:#ff7f0e;stroke:#ff7f0e;\" x=\"233.727201\" xlink:href=\"#med6db725de\" y=\"92.489953\"/>\r\n     <use style=\"fill:#ff7f0e;stroke:#ff7f0e;\" x=\"289.296389\" xlink:href=\"#med6db725de\" y=\"58.435187\"/>\r\n     <use style=\"fill:#ff7f0e;stroke:#ff7f0e;\" x=\"87.581973\" xlink:href=\"#med6db725de\" y=\"165.471224\"/>\r\n     <use style=\"fill:#ff7f0e;stroke:#ff7f0e;\" x=\"44.160369\" xlink:href=\"#med6db725de\" y=\"150.564178\"/>\r\n     <use style=\"fill:#ff7f0e;stroke:#ff7f0e;\" x=\"96.362169\" xlink:href=\"#med6db725de\" y=\"143.526342\"/>\r\n     <use style=\"fill:#ff7f0e;stroke:#ff7f0e;\" x=\"227.495071\" xlink:href=\"#med6db725de\" y=\"82.545143\"/>\r\n     <use style=\"fill:#ff7f0e;stroke:#ff7f0e;\" x=\"348.524006\" xlink:href=\"#med6db725de\" y=\"66.980579\"/>\r\n     <use style=\"fill:#ff7f0e;stroke:#ff7f0e;\" x=\"176.046855\" xlink:href=\"#med6db725de\" y=\"126.988175\"/>\r\n     <use style=\"fill:#ff7f0e;stroke:#ff7f0e;\" x=\"52.453253\" xlink:href=\"#med6db725de\" y=\"145.869691\"/>\r\n    </g>\r\n   </g>\r\n   <g id=\"matplotlib.axis_1\">\r\n    <g id=\"xtick_1\">\r\n     <g id=\"line2d_1\">\r\n      <defs>\r\n       <path d=\"M 0 0 \r\nL 0 3.5 \r\n\" id=\"m722cd31524\" style=\"stroke:#000000;stroke-width:0.8;\"/>\r\n      </defs>\r\n      <g>\r\n       <use style=\"stroke:#000000;stroke-width:0.8;\" x=\"37.560765\" xlink:href=\"#m722cd31524\" y=\"224.64\"/>\r\n      </g>\r\n     </g>\r\n     <g id=\"text_1\">\r\n      <!-- −3 -->\r\n      <g transform=\"translate(30.189671 239.238438)scale(0.1 -0.1)\">\r\n       <defs>\r\n        <path d=\"M 10.59375 35.5 \r\nL 73.1875 35.5 \r\nL 73.1875 27.203125 \r\nL 10.59375 27.203125 \r\nz\r\n\" id=\"DejaVuSans-8722\"/>\r\n        <path d=\"M 40.578125 39.3125 \r\nQ 47.65625 37.796875 51.625 33 \r\nQ 55.609375 28.21875 55.609375 21.1875 \r\nQ 55.609375 10.40625 48.1875 4.484375 \r\nQ 40.765625 -1.421875 27.09375 -1.421875 \r\nQ 22.515625 -1.421875 17.65625 -0.515625 \r\nQ 12.796875 0.390625 7.625 2.203125 \r\nL 7.625 11.71875 \r\nQ 11.71875 9.328125 16.59375 8.109375 \r\nQ 21.484375 6.890625 26.8125 6.890625 \r\nQ 36.078125 6.890625 40.9375 10.546875 \r\nQ 45.796875 14.203125 45.796875 21.1875 \r\nQ 45.796875 27.640625 41.28125 31.265625 \r\nQ 36.765625 34.90625 28.71875 34.90625 \r\nL 20.21875 34.90625 \r\nL 20.21875 43.015625 \r\nL 29.109375 43.015625 \r\nQ 36.375 43.015625 40.234375 45.921875 \r\nQ 44.09375 48.828125 44.09375 54.296875 \r\nQ 44.09375 59.90625 40.109375 62.90625 \r\nQ 36.140625 65.921875 28.71875 65.921875 \r\nQ 24.65625 65.921875 20.015625 65.03125 \r\nQ 15.375 64.15625 9.8125 62.3125 \r\nL 9.8125 71.09375 \r\nQ 15.4375 72.65625 20.34375 73.4375 \r\nQ 25.25 74.21875 29.59375 74.21875 \r\nQ 40.828125 74.21875 47.359375 69.109375 \r\nQ 53.90625 64.015625 53.90625 55.328125 \r\nQ 53.90625 49.265625 50.4375 45.09375 \r\nQ 46.96875 40.921875 40.578125 39.3125 \r\nz\r\n\" id=\"DejaVuSans-51\"/>\r\n       </defs>\r\n       <use xlink:href=\"#DejaVuSans-8722\"/>\r\n       <use x=\"83.789062\" xlink:href=\"#DejaVuSans-51\"/>\r\n      </g>\r\n     </g>\r\n    </g>\r\n    <g id=\"xtick_2\">\r\n     <g id=\"line2d_2\">\r\n      <g>\r\n       <use style=\"stroke:#000000;stroke-width:0.8;\" x=\"90.995841\" xlink:href=\"#m722cd31524\" y=\"224.64\"/>\r\n      </g>\r\n     </g>\r\n     <g id=\"text_2\">\r\n      <!-- −2 -->\r\n      <g transform=\"translate(83.624748 239.238438)scale(0.1 -0.1)\">\r\n       <defs>\r\n        <path d=\"M 19.1875 8.296875 \r\nL 53.609375 8.296875 \r\nL 53.609375 0 \r\nL 7.328125 0 \r\nL 7.328125 8.296875 \r\nQ 12.9375 14.109375 22.625 23.890625 \r\nQ 32.328125 33.6875 34.8125 36.53125 \r\nQ 39.546875 41.84375 41.421875 45.53125 \r\nQ 43.3125 49.21875 43.3125 52.78125 \r\nQ 43.3125 58.59375 39.234375 62.25 \r\nQ 35.15625 65.921875 28.609375 65.921875 \r\nQ 23.96875 65.921875 18.8125 64.3125 \r\nQ 13.671875 62.703125 7.8125 59.421875 \r\nL 7.8125 69.390625 \r\nQ 13.765625 71.78125 18.9375 73 \r\nQ 24.125 74.21875 28.421875 74.21875 \r\nQ 39.75 74.21875 46.484375 68.546875 \r\nQ 53.21875 62.890625 53.21875 53.421875 \r\nQ 53.21875 48.921875 51.53125 44.890625 \r\nQ 49.859375 40.875 45.40625 35.40625 \r\nQ 44.1875 33.984375 37.640625 27.21875 \r\nQ 31.109375 20.453125 19.1875 8.296875 \r\nz\r\n\" id=\"DejaVuSans-50\"/>\r\n       </defs>\r\n       <use xlink:href=\"#DejaVuSans-8722\"/>\r\n       <use x=\"83.789062\" xlink:href=\"#DejaVuSans-50\"/>\r\n      </g>\r\n     </g>\r\n    </g>\r\n    <g id=\"xtick_3\">\r\n     <g id=\"line2d_3\">\r\n      <g>\r\n       <use style=\"stroke:#000000;stroke-width:0.8;\" x=\"144.430917\" xlink:href=\"#m722cd31524\" y=\"224.64\"/>\r\n      </g>\r\n     </g>\r\n     <g id=\"text_3\">\r\n      <!-- −1 -->\r\n      <g transform=\"translate(137.059824 239.238438)scale(0.1 -0.1)\">\r\n       <defs>\r\n        <path d=\"M 12.40625 8.296875 \r\nL 28.515625 8.296875 \r\nL 28.515625 63.921875 \r\nL 10.984375 60.40625 \r\nL 10.984375 69.390625 \r\nL 28.421875 72.90625 \r\nL 38.28125 72.90625 \r\nL 38.28125 8.296875 \r\nL 54.390625 8.296875 \r\nL 54.390625 0 \r\nL 12.40625 0 \r\nz\r\n\" id=\"DejaVuSans-49\"/>\r\n       </defs>\r\n       <use xlink:href=\"#DejaVuSans-8722\"/>\r\n       <use x=\"83.789062\" xlink:href=\"#DejaVuSans-49\"/>\r\n      </g>\r\n     </g>\r\n    </g>\r\n    <g id=\"xtick_4\">\r\n     <g id=\"line2d_4\">\r\n      <g>\r\n       <use style=\"stroke:#000000;stroke-width:0.8;\" x=\"197.865993\" xlink:href=\"#m722cd31524\" y=\"224.64\"/>\r\n      </g>\r\n     </g>\r\n     <g id=\"text_4\">\r\n      <!-- 0 -->\r\n      <g transform=\"translate(194.684743 239.238438)scale(0.1 -0.1)\">\r\n       <defs>\r\n        <path d=\"M 31.78125 66.40625 \r\nQ 24.171875 66.40625 20.328125 58.90625 \r\nQ 16.5 51.421875 16.5 36.375 \r\nQ 16.5 21.390625 20.328125 13.890625 \r\nQ 24.171875 6.390625 31.78125 6.390625 \r\nQ 39.453125 6.390625 43.28125 13.890625 \r\nQ 47.125 21.390625 47.125 36.375 \r\nQ 47.125 51.421875 43.28125 58.90625 \r\nQ 39.453125 66.40625 31.78125 66.40625 \r\nz\r\nM 31.78125 74.21875 \r\nQ 44.046875 74.21875 50.515625 64.515625 \r\nQ 56.984375 54.828125 56.984375 36.375 \r\nQ 56.984375 17.96875 50.515625 8.265625 \r\nQ 44.046875 -1.421875 31.78125 -1.421875 \r\nQ 19.53125 -1.421875 13.0625 8.265625 \r\nQ 6.59375 17.96875 6.59375 36.375 \r\nQ 6.59375 54.828125 13.0625 64.515625 \r\nQ 19.53125 74.21875 31.78125 74.21875 \r\nz\r\n\" id=\"DejaVuSans-48\"/>\r\n       </defs>\r\n       <use xlink:href=\"#DejaVuSans-48\"/>\r\n      </g>\r\n     </g>\r\n    </g>\r\n    <g id=\"xtick_5\">\r\n     <g id=\"line2d_5\">\r\n      <g>\r\n       <use style=\"stroke:#000000;stroke-width:0.8;\" x=\"251.30107\" xlink:href=\"#m722cd31524\" y=\"224.64\"/>\r\n      </g>\r\n     </g>\r\n     <g id=\"text_5\">\r\n      <!-- 1 -->\r\n      <g transform=\"translate(248.11982 239.238438)scale(0.1 -0.1)\">\r\n       <use xlink:href=\"#DejaVuSans-49\"/>\r\n      </g>\r\n     </g>\r\n    </g>\r\n    <g id=\"xtick_6\">\r\n     <g id=\"line2d_6\">\r\n      <g>\r\n       <use style=\"stroke:#000000;stroke-width:0.8;\" x=\"304.736146\" xlink:href=\"#m722cd31524\" y=\"224.64\"/>\r\n      </g>\r\n     </g>\r\n     <g id=\"text_6\">\r\n      <!-- 2 -->\r\n      <g transform=\"translate(301.554896 239.238438)scale(0.1 -0.1)\">\r\n       <use xlink:href=\"#DejaVuSans-50\"/>\r\n      </g>\r\n     </g>\r\n    </g>\r\n    <g id=\"xtick_7\">\r\n     <g id=\"line2d_7\">\r\n      <g>\r\n       <use style=\"stroke:#000000;stroke-width:0.8;\" x=\"358.171222\" xlink:href=\"#m722cd31524\" y=\"224.64\"/>\r\n      </g>\r\n     </g>\r\n     <g id=\"text_7\">\r\n      <!-- 3 -->\r\n      <g transform=\"translate(354.989972 239.238438)scale(0.1 -0.1)\">\r\n       <use xlink:href=\"#DejaVuSans-51\"/>\r\n      </g>\r\n     </g>\r\n    </g>\r\n   </g>\r\n   <g id=\"matplotlib.axis_2\">\r\n    <g id=\"ytick_1\">\r\n     <g id=\"line2d_8\">\r\n      <defs>\r\n       <path d=\"M 0 0 \r\nL -3.5 0 \r\n\" id=\"m0ca767d457\" style=\"stroke:#000000;stroke-width:0.8;\"/>\r\n      </defs>\r\n      <g>\r\n       <use style=\"stroke:#000000;stroke-width:0.8;\" x=\"28.942188\" xlink:href=\"#m0ca767d457\" y=\"193.302599\"/>\r\n      </g>\r\n     </g>\r\n     <g id=\"text_8\">\r\n      <!-- −2 -->\r\n      <g transform=\"translate(7.2 197.101818)scale(0.1 -0.1)\">\r\n       <use xlink:href=\"#DejaVuSans-8722\"/>\r\n       <use x=\"83.789062\" xlink:href=\"#DejaVuSans-50\"/>\r\n      </g>\r\n     </g>\r\n    </g>\r\n    <g id=\"ytick_2\">\r\n     <g id=\"line2d_9\">\r\n      <g>\r\n       <use style=\"stroke:#000000;stroke-width:0.8;\" x=\"28.942188\" xlink:href=\"#m0ca767d457\" y=\"147.84608\"/>\r\n      </g>\r\n     </g>\r\n     <g id=\"text_9\">\r\n      <!-- −1 -->\r\n      <g transform=\"translate(7.2 151.645299)scale(0.1 -0.1)\">\r\n       <use xlink:href=\"#DejaVuSans-8722\"/>\r\n       <use x=\"83.789062\" xlink:href=\"#DejaVuSans-49\"/>\r\n      </g>\r\n     </g>\r\n    </g>\r\n    <g id=\"ytick_3\">\r\n     <g id=\"line2d_10\">\r\n      <g>\r\n       <use style=\"stroke:#000000;stroke-width:0.8;\" x=\"28.942188\" xlink:href=\"#m0ca767d457\" y=\"102.389562\"/>\r\n      </g>\r\n     </g>\r\n     <g id=\"text_10\">\r\n      <!-- 0 -->\r\n      <g transform=\"translate(15.579688 106.188781)scale(0.1 -0.1)\">\r\n       <use xlink:href=\"#DejaVuSans-48\"/>\r\n      </g>\r\n     </g>\r\n    </g>\r\n    <g id=\"ytick_4\">\r\n     <g id=\"line2d_11\">\r\n      <g>\r\n       <use style=\"stroke:#000000;stroke-width:0.8;\" x=\"28.942188\" xlink:href=\"#m0ca767d457\" y=\"56.933043\"/>\r\n      </g>\r\n     </g>\r\n     <g id=\"text_11\">\r\n      <!-- 1 -->\r\n      <g transform=\"translate(15.579688 60.732262)scale(0.1 -0.1)\">\r\n       <use xlink:href=\"#DejaVuSans-49\"/>\r\n      </g>\r\n     </g>\r\n    </g>\r\n    <g id=\"ytick_5\">\r\n     <g id=\"line2d_12\">\r\n      <g>\r\n       <use style=\"stroke:#000000;stroke-width:0.8;\" x=\"28.942188\" xlink:href=\"#m0ca767d457\" y=\"11.476524\"/>\r\n      </g>\r\n     </g>\r\n     <g id=\"text_12\">\r\n      <!-- 2 -->\r\n      <g transform=\"translate(15.579688 15.275743)scale(0.1 -0.1)\">\r\n       <use xlink:href=\"#DejaVuSans-50\"/>\r\n      </g>\r\n     </g>\r\n    </g>\r\n   </g>\r\n   <g id=\"patch_3\">\r\n    <path d=\"M 28.942188 224.64 \r\nL 28.942188 7.2 \r\n\" style=\"fill:none;stroke:#000000;stroke-linecap:square;stroke-linejoin:miter;stroke-width:0.8;\"/>\r\n   </g>\r\n   <g id=\"patch_4\">\r\n    <path d=\"M 363.742188 224.64 \r\nL 363.742188 7.2 \r\n\" style=\"fill:none;stroke:#000000;stroke-linecap:square;stroke-linejoin:miter;stroke-width:0.8;\"/>\r\n   </g>\r\n   <g id=\"patch_5\">\r\n    <path d=\"M 28.942187 224.64 \r\nL 363.742188 224.64 \r\n\" style=\"fill:none;stroke:#000000;stroke-linecap:square;stroke-linejoin:miter;stroke-width:0.8;\"/>\r\n   </g>\r\n   <g id=\"patch_6\">\r\n    <path d=\"M 28.942187 7.2 \r\nL 363.742188 7.2 \r\n\" style=\"fill:none;stroke:#000000;stroke-linecap:square;stroke-linejoin:miter;stroke-width:0.8;\"/>\r\n   </g>\r\n  </g>\r\n </g>\r\n <defs>\r\n  <clipPath id=\"pf41206c6a4\">\r\n   <rect height=\"217.44\" width=\"334.8\" x=\"28.942188\" y=\"7.2\"/>\r\n  </clipPath>\r\n </defs>\r\n</svg>\r\n",
      "image/png": "[encoded data removed]"
     },
     "metadata": {
      "needs_background": "light"
     }
    }
   ],
   "source": [
    "from sklearn.linear_model import LinearRegression\n",
    "from sklearn.model_selection import train_test_split\n",
    "\n",
    "X_train, X_test, y_train, y_test = train_test_split(x,y, random_state = 0)\n",
    "plt.scatter(X_train, y_train)\n",
    "plt.scatter(X_test, y_test)"
   ]
  },
  {
   "cell_type": "code",
   "execution_count": 3,
   "metadata": {},
   "outputs": [
    {
     "output_type": "stream",
     "name": "stdout",
     "text": [
      "lr coeff = [0.52424272]\nlr intercept =-0.09394309015377249\n"
     ]
    }
   ],
   "source": [
    "lr = LinearRegression().fit(X_train, y_train)\n",
    "print('lr coeff = {}'.format(lr.coef_))\n",
    "print('lr intercept ={}'.format(lr.intercept_))"
   ]
  },
  {
   "cell_type": "code",
   "execution_count": 4,
   "metadata": {},
   "outputs": [
    {
     "output_type": "execute_result",
     "data": {
      "text/plain": [
       "[<matplotlib.lines.Line2D at 0x263e7c55550>]"
      ]
     },
     "metadata": {},
     "execution_count": 4
    },
    {
     "output_type": "display_data",
     "data": {
      "text/plain": "<Figure size 432x288 with 1 Axes>",
      "image/svg+xml": "<?xml version=\"1.0\" encoding=\"utf-8\" standalone=\"no\"?>\r\n<!DOCTYPE svg PUBLIC \"-//W3C//DTD SVG 1.1//EN\"\r\n  \"http://www.w3.org/Graphics/SVG/1.1/DTD/svg11.dtd\">\r\n<!-- Created with matplotlib (https://matplotlib.org/) -->\r\n<svg height=\"248.518125pt\" version=\"1.1\" viewBox=\"0 0 370.942187 248.518125\" width=\"370.942187pt\" xmlns=\"http://www.w3.org/2000/svg\" xmlns:xlink=\"http://www.w3.org/1999/xlink\">\r\n <metadata>\r\n  <rdf:RDF xmlns:cc=\"http://creativecommons.org/ns#\" xmlns:dc=\"http://purl.org/dc/elements/1.1/\" xmlns:rdf=\"http://www.w3.org/1999/02/22-rdf-syntax-ns#\">\r\n   <cc:Work>\r\n    <dc:type rdf:resource=\"http://purl.org/dc/dcmitype/StillImage\"/>\r\n    <dc:date>2021-03-23T16:38:16.445914</dc:date>\r\n    <dc:format>image/svg+xml</dc:format>\r\n    <dc:creator>\r\n     <cc:Agent>\r\n      <dc:title>Matplotlib v3.3.2, https://matplotlib.org/</dc:title>\r\n     </cc:Agent>\r\n    </dc:creator>\r\n   </cc:Work>\r\n  </rdf:RDF>\r\n </metadata>\r\n <defs>\r\n  <style type=\"text/css\">*{stroke-linecap:butt;stroke-linejoin:round;}</style>\r\n </defs>\r\n <g id=\"figure_1\">\r\n  <g id=\"patch_1\">\r\n   <path d=\"M 0 248.518125 \r\nL 370.942187 248.518125 \r\nL 370.942187 0 \r\nL 0 0 \r\nz\r\n\" style=\"fill:none;\"/>\r\n  </g>\r\n  <g id=\"axes_1\">\r\n   <g id=\"patch_2\">\r\n    <path d=\"M 28.942188 224.64 \r\nL 363.742188 224.64 \r\nL 363.742188 7.2 \r\nL 28.942188 7.2 \r\nz\r\n\" style=\"fill:#ffffff;\"/>\r\n   </g>\r\n   <g id=\"PathCollection_1\">\r\n    <defs>\r\n     <path d=\"M 0 3 \r\nC 0.795609 3 1.55874 2.683901 2.12132 2.12132 \r\nC 2.683901 1.55874 3 0.795609 3 0 \r\nC 3 -0.795609 2.683901 -1.55874 2.12132 -2.12132 \r\nC 1.55874 -2.683901 0.795609 -3 0 -3 \r\nC -0.795609 -3 -1.55874 -2.683901 -2.12132 -2.12132 \r\nC -2.683901 -1.55874 -3 -0.795609 -3 0 \r\nC -3 0.795609 -2.683901 1.55874 -2.12132 2.12132 \r\nC -1.55874 2.683901 -0.795609 3 0 3 \r\nz\r\n\" id=\"ma4b1feeffd\" style=\"stroke:#1f77b4;\"/>\r\n    </defs>\r\n    <g clip-path=\"url(#p6825b44b8b)\">\r\n     <use style=\"fill:#1f77b4;stroke:#1f77b4;\" x=\"202.429703\" xlink:href=\"#ma4b1feeffd\" y=\"70.661552\"/>\r\n     <use style=\"fill:#1f77b4;stroke:#1f77b4;\" x=\"296.741408\" xlink:href=\"#ma4b1feeffd\" y=\"17.083636\"/>\r\n     <use style=\"fill:#1f77b4;stroke:#1f77b4;\" x=\"68.875466\" xlink:href=\"#ma4b1feeffd\" y=\"166.711607\"/>\r\n     <use style=\"fill:#1f77b4;stroke:#1f77b4;\" x=\"272.245677\" xlink:href=\"#ma4b1feeffd\" y=\"66.964354\"/>\r\n     <use style=\"fill:#1f77b4;stroke:#1f77b4;\" x=\"178.678257\" xlink:href=\"#ma4b1feeffd\" y=\"98.117168\"/>\r\n     <use style=\"fill:#1f77b4;stroke:#1f77b4;\" x=\"232.345998\" xlink:href=\"#ma4b1feeffd\" y=\"100.78591\"/>\r\n     <use style=\"fill:#1f77b4;stroke:#1f77b4;\" x=\"347.152492\" xlink:href=\"#ma4b1feeffd\" y=\"62.890896\"/>\r\n     <use style=\"fill:#1f77b4;stroke:#1f77b4;\" x=\"135.10401\" xlink:href=\"#ma4b1feeffd\" y=\"98.549148\"/>\r\n     <use style=\"fill:#1f77b4;stroke:#1f77b4;\" x=\"135.223125\" xlink:href=\"#ma4b1feeffd\" y=\"98.092753\"/>\r\n     <use style=\"fill:#1f77b4;stroke:#1f77b4;\" x=\"230.284524\" xlink:href=\"#ma4b1feeffd\" y=\"56.918327\"/>\r\n     <use style=\"fill:#1f77b4;stroke:#1f77b4;\" x=\"105.638904\" xlink:href=\"#ma4b1feeffd\" y=\"171.196975\"/>\r\n     <use style=\"fill:#1f77b4;stroke:#1f77b4;\" x=\"87.57424\" xlink:href=\"#ma4b1feeffd\" y=\"214.756364\"/>\r\n     <use style=\"fill:#1f77b4;stroke:#1f77b4;\" x=\"205.803164\" xlink:href=\"#ma4b1feeffd\" y=\"126.360905\"/>\r\n     <use style=\"fill:#1f77b4;stroke:#1f77b4;\" x=\"95.855751\" xlink:href=\"#ma4b1feeffd\" y=\"178.43987\"/>\r\n     <use style=\"fill:#1f77b4;stroke:#1f77b4;\" x=\"341.78339\" xlink:href=\"#ma4b1feeffd\" y=\"32.519142\"/>\r\n     <use style=\"fill:#1f77b4;stroke:#1f77b4;\" x=\"315.265895\" xlink:href=\"#ma4b1feeffd\" y=\"34.469724\"/>\r\n     <use style=\"fill:#1f77b4;stroke:#1f77b4;\" x=\"58.416986\" xlink:href=\"#ma4b1feeffd\" y=\"123.940967\"/>\r\n     <use style=\"fill:#1f77b4;stroke:#1f77b4;\" x=\"342.369713\" xlink:href=\"#ma4b1feeffd\" y=\"87.333192\"/>\r\n     <use style=\"fill:#1f77b4;stroke:#1f77b4;\" x=\"101.578268\" xlink:href=\"#ma4b1feeffd\" y=\"153.962262\"/>\r\n     <use style=\"fill:#1f77b4;stroke:#1f77b4;\" x=\"304.45058\" xlink:href=\"#ma4b1feeffd\" y=\"68.106798\"/>\r\n     <use style=\"fill:#1f77b4;stroke:#1f77b4;\" x=\"92.232582\" xlink:href=\"#ma4b1feeffd\" y=\"197.203549\"/>\r\n     <use style=\"fill:#1f77b4;stroke:#1f77b4;\" x=\"183.781571\" xlink:href=\"#ma4b1feeffd\" y=\"147.217927\"/>\r\n     <use style=\"fill:#1f77b4;stroke:#1f77b4;\" x=\"56.182979\" xlink:href=\"#ma4b1feeffd\" y=\"171.815668\"/>\r\n     <use style=\"fill:#1f77b4;stroke:#1f77b4;\" x=\"155.020203\" xlink:href=\"#ma4b1feeffd\" y=\"97.954665\"/>\r\n     <use style=\"fill:#1f77b4;stroke:#1f77b4;\" x=\"82.283956\" xlink:href=\"#ma4b1feeffd\" y=\"153.514097\"/>\r\n     <use style=\"fill:#1f77b4;stroke:#1f77b4;\" x=\"130.931873\" xlink:href=\"#ma4b1feeffd\" y=\"117.886021\"/>\r\n     <use style=\"fill:#1f77b4;stroke:#1f77b4;\" x=\"264.576238\" xlink:href=\"#ma4b1feeffd\" y=\"91.954494\"/>\r\n     <use style=\"fill:#1f77b4;stroke:#1f77b4;\" x=\"256.933028\" xlink:href=\"#ma4b1feeffd\" y=\"90.825925\"/>\r\n     <use style=\"fill:#1f77b4;stroke:#1f77b4;\" x=\"229.496935\" xlink:href=\"#ma4b1feeffd\" y=\"100.799546\"/>\r\n     <use style=\"fill:#1f77b4;stroke:#1f77b4;\" x=\"157.642244\" xlink:href=\"#ma4b1feeffd\" y=\"122.764116\"/>\r\n    </g>\r\n   </g>\r\n   <g id=\"PathCollection_2\">\r\n    <defs>\r\n     <path d=\"M 0 3 \r\nC 0.795609 3 1.55874 2.683901 2.12132 2.12132 \r\nC 2.683901 1.55874 3 0.795609 3 0 \r\nC 3 -0.795609 2.683901 -1.55874 2.12132 -2.12132 \r\nC 1.55874 -2.683901 0.795609 -3 0 -3 \r\nC -0.795609 -3 -1.55874 -2.683901 -2.12132 -2.12132 \r\nC -2.683901 -1.55874 -3 -0.795609 -3 0 \r\nC -3 0.795609 -2.683901 1.55874 -2.12132 2.12132 \r\nC -1.55874 2.683901 -0.795609 3 0 3 \r\nz\r\n\" id=\"mcd62899818\" style=\"stroke:#ff7f0e;\"/>\r\n    </defs>\r\n    <g clip-path=\"url(#p6825b44b8b)\">\r\n     <use style=\"fill:#ff7f0e;stroke:#ff7f0e;\" x=\"131.225394\" xlink:href=\"#mcd62899818\" y=\"85.434676\"/>\r\n     <use style=\"fill:#ff7f0e;stroke:#ff7f0e;\" x=\"233.727201\" xlink:href=\"#mcd62899818\" y=\"92.489953\"/>\r\n     <use style=\"fill:#ff7f0e;stroke:#ff7f0e;\" x=\"289.296389\" xlink:href=\"#mcd62899818\" y=\"58.435187\"/>\r\n     <use style=\"fill:#ff7f0e;stroke:#ff7f0e;\" x=\"87.581973\" xlink:href=\"#mcd62899818\" y=\"165.471224\"/>\r\n     <use style=\"fill:#ff7f0e;stroke:#ff7f0e;\" x=\"44.160369\" xlink:href=\"#mcd62899818\" y=\"150.564178\"/>\r\n     <use style=\"fill:#ff7f0e;stroke:#ff7f0e;\" x=\"96.362169\" xlink:href=\"#mcd62899818\" y=\"143.526342\"/>\r\n     <use style=\"fill:#ff7f0e;stroke:#ff7f0e;\" x=\"227.495071\" xlink:href=\"#mcd62899818\" y=\"82.545143\"/>\r\n     <use style=\"fill:#ff7f0e;stroke:#ff7f0e;\" x=\"348.524006\" xlink:href=\"#mcd62899818\" y=\"66.980579\"/>\r\n     <use style=\"fill:#ff7f0e;stroke:#ff7f0e;\" x=\"176.046855\" xlink:href=\"#mcd62899818\" y=\"126.988175\"/>\r\n     <use style=\"fill:#ff7f0e;stroke:#ff7f0e;\" x=\"52.453253\" xlink:href=\"#mcd62899818\" y=\"145.869691\"/>\r\n    </g>\r\n   </g>\r\n   <g id=\"matplotlib.axis_1\">\r\n    <g id=\"xtick_1\">\r\n     <g id=\"line2d_1\">\r\n      <defs>\r\n       <path d=\"M 0 0 \r\nL 0 3.5 \r\n\" id=\"m378d78da86\" style=\"stroke:#000000;stroke-width:0.8;\"/>\r\n      </defs>\r\n      <g>\r\n       <use style=\"stroke:#000000;stroke-width:0.8;\" x=\"37.560765\" xlink:href=\"#m378d78da86\" y=\"224.64\"/>\r\n      </g>\r\n     </g>\r\n     <g id=\"text_1\">\r\n      <!-- −3 -->\r\n      <g transform=\"translate(30.189671 239.238438)scale(0.1 -0.1)\">\r\n       <defs>\r\n        <path d=\"M 10.59375 35.5 \r\nL 73.1875 35.5 \r\nL 73.1875 27.203125 \r\nL 10.59375 27.203125 \r\nz\r\n\" id=\"DejaVuSans-8722\"/>\r\n        <path d=\"M 40.578125 39.3125 \r\nQ 47.65625 37.796875 51.625 33 \r\nQ 55.609375 28.21875 55.609375 21.1875 \r\nQ 55.609375 10.40625 48.1875 4.484375 \r\nQ 40.765625 -1.421875 27.09375 -1.421875 \r\nQ 22.515625 -1.421875 17.65625 -0.515625 \r\nQ 12.796875 0.390625 7.625 2.203125 \r\nL 7.625 11.71875 \r\nQ 11.71875 9.328125 16.59375 8.109375 \r\nQ 21.484375 6.890625 26.8125 6.890625 \r\nQ 36.078125 6.890625 40.9375 10.546875 \r\nQ 45.796875 14.203125 45.796875 21.1875 \r\nQ 45.796875 27.640625 41.28125 31.265625 \r\nQ 36.765625 34.90625 28.71875 34.90625 \r\nL 20.21875 34.90625 \r\nL 20.21875 43.015625 \r\nL 29.109375 43.015625 \r\nQ 36.375 43.015625 40.234375 45.921875 \r\nQ 44.09375 48.828125 44.09375 54.296875 \r\nQ 44.09375 59.90625 40.109375 62.90625 \r\nQ 36.140625 65.921875 28.71875 65.921875 \r\nQ 24.65625 65.921875 20.015625 65.03125 \r\nQ 15.375 64.15625 9.8125 62.3125 \r\nL 9.8125 71.09375 \r\nQ 15.4375 72.65625 20.34375 73.4375 \r\nQ 25.25 74.21875 29.59375 74.21875 \r\nQ 40.828125 74.21875 47.359375 69.109375 \r\nQ 53.90625 64.015625 53.90625 55.328125 \r\nQ 53.90625 49.265625 50.4375 45.09375 \r\nQ 46.96875 40.921875 40.578125 39.3125 \r\nz\r\n\" id=\"DejaVuSans-51\"/>\r\n       </defs>\r\n       <use xlink:href=\"#DejaVuSans-8722\"/>\r\n       <use x=\"83.789062\" xlink:href=\"#DejaVuSans-51\"/>\r\n      </g>\r\n     </g>\r\n    </g>\r\n    <g id=\"xtick_2\">\r\n     <g id=\"line2d_2\">\r\n      <g>\r\n       <use style=\"stroke:#000000;stroke-width:0.8;\" x=\"90.995841\" xlink:href=\"#m378d78da86\" y=\"224.64\"/>\r\n      </g>\r\n     </g>\r\n     <g id=\"text_2\">\r\n      <!-- −2 -->\r\n      <g transform=\"translate(83.624748 239.238438)scale(0.1 -0.1)\">\r\n       <defs>\r\n        <path d=\"M 19.1875 8.296875 \r\nL 53.609375 8.296875 \r\nL 53.609375 0 \r\nL 7.328125 0 \r\nL 7.328125 8.296875 \r\nQ 12.9375 14.109375 22.625 23.890625 \r\nQ 32.328125 33.6875 34.8125 36.53125 \r\nQ 39.546875 41.84375 41.421875 45.53125 \r\nQ 43.3125 49.21875 43.3125 52.78125 \r\nQ 43.3125 58.59375 39.234375 62.25 \r\nQ 35.15625 65.921875 28.609375 65.921875 \r\nQ 23.96875 65.921875 18.8125 64.3125 \r\nQ 13.671875 62.703125 7.8125 59.421875 \r\nL 7.8125 69.390625 \r\nQ 13.765625 71.78125 18.9375 73 \r\nQ 24.125 74.21875 28.421875 74.21875 \r\nQ 39.75 74.21875 46.484375 68.546875 \r\nQ 53.21875 62.890625 53.21875 53.421875 \r\nQ 53.21875 48.921875 51.53125 44.890625 \r\nQ 49.859375 40.875 45.40625 35.40625 \r\nQ 44.1875 33.984375 37.640625 27.21875 \r\nQ 31.109375 20.453125 19.1875 8.296875 \r\nz\r\n\" id=\"DejaVuSans-50\"/>\r\n       </defs>\r\n       <use xlink:href=\"#DejaVuSans-8722\"/>\r\n       <use x=\"83.789062\" xlink:href=\"#DejaVuSans-50\"/>\r\n      </g>\r\n     </g>\r\n    </g>\r\n    <g id=\"xtick_3\">\r\n     <g id=\"line2d_3\">\r\n      <g>\r\n       <use style=\"stroke:#000000;stroke-width:0.8;\" x=\"144.430917\" xlink:href=\"#m378d78da86\" y=\"224.64\"/>\r\n      </g>\r\n     </g>\r\n     <g id=\"text_3\">\r\n      <!-- −1 -->\r\n      <g transform=\"translate(137.059824 239.238438)scale(0.1 -0.1)\">\r\n       <defs>\r\n        <path d=\"M 12.40625 8.296875 \r\nL 28.515625 8.296875 \r\nL 28.515625 63.921875 \r\nL 10.984375 60.40625 \r\nL 10.984375 69.390625 \r\nL 28.421875 72.90625 \r\nL 38.28125 72.90625 \r\nL 38.28125 8.296875 \r\nL 54.390625 8.296875 \r\nL 54.390625 0 \r\nL 12.40625 0 \r\nz\r\n\" id=\"DejaVuSans-49\"/>\r\n       </defs>\r\n       <use xlink:href=\"#DejaVuSans-8722\"/>\r\n       <use x=\"83.789062\" xlink:href=\"#DejaVuSans-49\"/>\r\n      </g>\r\n     </g>\r\n    </g>\r\n    <g id=\"xtick_4\">\r\n     <g id=\"line2d_4\">\r\n      <g>\r\n       <use style=\"stroke:#000000;stroke-width:0.8;\" x=\"197.865993\" xlink:href=\"#m378d78da86\" y=\"224.64\"/>\r\n      </g>\r\n     </g>\r\n     <g id=\"text_4\">\r\n      <!-- 0 -->\r\n      <g transform=\"translate(194.684743 239.238438)scale(0.1 -0.1)\">\r\n       <defs>\r\n        <path d=\"M 31.78125 66.40625 \r\nQ 24.171875 66.40625 20.328125 58.90625 \r\nQ 16.5 51.421875 16.5 36.375 \r\nQ 16.5 21.390625 20.328125 13.890625 \r\nQ 24.171875 6.390625 31.78125 6.390625 \r\nQ 39.453125 6.390625 43.28125 13.890625 \r\nQ 47.125 21.390625 47.125 36.375 \r\nQ 47.125 51.421875 43.28125 58.90625 \r\nQ 39.453125 66.40625 31.78125 66.40625 \r\nz\r\nM 31.78125 74.21875 \r\nQ 44.046875 74.21875 50.515625 64.515625 \r\nQ 56.984375 54.828125 56.984375 36.375 \r\nQ 56.984375 17.96875 50.515625 8.265625 \r\nQ 44.046875 -1.421875 31.78125 -1.421875 \r\nQ 19.53125 -1.421875 13.0625 8.265625 \r\nQ 6.59375 17.96875 6.59375 36.375 \r\nQ 6.59375 54.828125 13.0625 64.515625 \r\nQ 19.53125 74.21875 31.78125 74.21875 \r\nz\r\n\" id=\"DejaVuSans-48\"/>\r\n       </defs>\r\n       <use xlink:href=\"#DejaVuSans-48\"/>\r\n      </g>\r\n     </g>\r\n    </g>\r\n    <g id=\"xtick_5\">\r\n     <g id=\"line2d_5\">\r\n      <g>\r\n       <use style=\"stroke:#000000;stroke-width:0.8;\" x=\"251.30107\" xlink:href=\"#m378d78da86\" y=\"224.64\"/>\r\n      </g>\r\n     </g>\r\n     <g id=\"text_5\">\r\n      <!-- 1 -->\r\n      <g transform=\"translate(248.11982 239.238438)scale(0.1 -0.1)\">\r\n       <use xlink:href=\"#DejaVuSans-49\"/>\r\n      </g>\r\n     </g>\r\n    </g>\r\n    <g id=\"xtick_6\">\r\n     <g id=\"line2d_6\">\r\n      <g>\r\n       <use style=\"stroke:#000000;stroke-width:0.8;\" x=\"304.736146\" xlink:href=\"#m378d78da86\" y=\"224.64\"/>\r\n      </g>\r\n     </g>\r\n     <g id=\"text_6\">\r\n      <!-- 2 -->\r\n      <g transform=\"translate(301.554896 239.238438)scale(0.1 -0.1)\">\r\n       <use xlink:href=\"#DejaVuSans-50\"/>\r\n      </g>\r\n     </g>\r\n    </g>\r\n    <g id=\"xtick_7\">\r\n     <g id=\"line2d_7\">\r\n      <g>\r\n       <use style=\"stroke:#000000;stroke-width:0.8;\" x=\"358.171222\" xlink:href=\"#m378d78da86\" y=\"224.64\"/>\r\n      </g>\r\n     </g>\r\n     <g id=\"text_7\">\r\n      <!-- 3 -->\r\n      <g transform=\"translate(354.989972 239.238438)scale(0.1 -0.1)\">\r\n       <use xlink:href=\"#DejaVuSans-51\"/>\r\n      </g>\r\n     </g>\r\n    </g>\r\n   </g>\r\n   <g id=\"matplotlib.axis_2\">\r\n    <g id=\"ytick_1\">\r\n     <g id=\"line2d_8\">\r\n      <defs>\r\n       <path d=\"M 0 0 \r\nL -3.5 0 \r\n\" id=\"mb88ec31ce6\" style=\"stroke:#000000;stroke-width:0.8;\"/>\r\n      </defs>\r\n      <g>\r\n       <use style=\"stroke:#000000;stroke-width:0.8;\" x=\"28.942188\" xlink:href=\"#mb88ec31ce6\" y=\"193.302599\"/>\r\n      </g>\r\n     </g>\r\n     <g id=\"text_8\">\r\n      <!-- −2 -->\r\n      <g transform=\"translate(7.2 197.101818)scale(0.1 -0.1)\">\r\n       <use xlink:href=\"#DejaVuSans-8722\"/>\r\n       <use x=\"83.789062\" xlink:href=\"#DejaVuSans-50\"/>\r\n      </g>\r\n     </g>\r\n    </g>\r\n    <g id=\"ytick_2\">\r\n     <g id=\"line2d_9\">\r\n      <g>\r\n       <use style=\"stroke:#000000;stroke-width:0.8;\" x=\"28.942188\" xlink:href=\"#mb88ec31ce6\" y=\"147.84608\"/>\r\n      </g>\r\n     </g>\r\n     <g id=\"text_9\">\r\n      <!-- −1 -->\r\n      <g transform=\"translate(7.2 151.645299)scale(0.1 -0.1)\">\r\n       <use xlink:href=\"#DejaVuSans-8722\"/>\r\n       <use x=\"83.789062\" xlink:href=\"#DejaVuSans-49\"/>\r\n      </g>\r\n     </g>\r\n    </g>\r\n    <g id=\"ytick_3\">\r\n     <g id=\"line2d_10\">\r\n      <g>\r\n       <use style=\"stroke:#000000;stroke-width:0.8;\" x=\"28.942188\" xlink:href=\"#mb88ec31ce6\" y=\"102.389562\"/>\r\n      </g>\r\n     </g>\r\n     <g id=\"text_10\">\r\n      <!-- 0 -->\r\n      <g transform=\"translate(15.579688 106.188781)scale(0.1 -0.1)\">\r\n       <use xlink:href=\"#DejaVuSans-48\"/>\r\n      </g>\r\n     </g>\r\n    </g>\r\n    <g id=\"ytick_4\">\r\n     <g id=\"line2d_11\">\r\n      <g>\r\n       <use style=\"stroke:#000000;stroke-width:0.8;\" x=\"28.942188\" xlink:href=\"#mb88ec31ce6\" y=\"56.933043\"/>\r\n      </g>\r\n     </g>\r\n     <g id=\"text_11\">\r\n      <!-- 1 -->\r\n      <g transform=\"translate(15.579688 60.732262)scale(0.1 -0.1)\">\r\n       <use xlink:href=\"#DejaVuSans-49\"/>\r\n      </g>\r\n     </g>\r\n    </g>\r\n    <g id=\"ytick_5\">\r\n     <g id=\"line2d_12\">\r\n      <g>\r\n       <use style=\"stroke:#000000;stroke-width:0.8;\" x=\"28.942188\" xlink:href=\"#mb88ec31ce6\" y=\"11.476524\"/>\r\n      </g>\r\n     </g>\r\n     <g id=\"text_12\">\r\n      <!-- 2 -->\r\n      <g transform=\"translate(15.579688 15.275743)scale(0.1 -0.1)\">\r\n       <use xlink:href=\"#DejaVuSans-50\"/>\r\n      </g>\r\n     </g>\r\n    </g>\r\n   </g>\r\n   <g id=\"line2d_13\">\r\n    <path clip-path=\"url(#p6825b44b8b)\" d=\"M 131.225394 136.379356 \r\nL 233.727201 90.666994 \r\nL 289.296389 65.885003 \r\nL 87.581973 155.842856 \r\nL 44.160369 175.207433 \r\nL 96.362169 151.927184 \r\nL 227.495071 93.446315 \r\nL 348.524006 39.471475 \r\nL 176.046855 116.39049 \r\nL 52.453253 171.509085 \r\n\" style=\"fill:none;stroke:#1f77b4;stroke-linecap:square;stroke-width:1.5;\"/>\r\n   </g>\r\n   <g id=\"patch_3\">\r\n    <path d=\"M 28.942188 224.64 \r\nL 28.942188 7.2 \r\n\" style=\"fill:none;stroke:#000000;stroke-linecap:square;stroke-linejoin:miter;stroke-width:0.8;\"/>\r\n   </g>\r\n   <g id=\"patch_4\">\r\n    <path d=\"M 363.742188 224.64 \r\nL 363.742188 7.2 \r\n\" style=\"fill:none;stroke:#000000;stroke-linecap:square;stroke-linejoin:miter;stroke-width:0.8;\"/>\r\n   </g>\r\n   <g id=\"patch_5\">\r\n    <path d=\"M 28.942187 224.64 \r\nL 363.742188 224.64 \r\n\" style=\"fill:none;stroke:#000000;stroke-linecap:square;stroke-linejoin:miter;stroke-width:0.8;\"/>\r\n   </g>\r\n   <g id=\"patch_6\">\r\n    <path d=\"M 28.942187 7.2 \r\nL 363.742188 7.2 \r\n\" style=\"fill:none;stroke:#000000;stroke-linecap:square;stroke-linejoin:miter;stroke-width:0.8;\"/>\r\n   </g>\r\n  </g>\r\n </g>\r\n <defs>\r\n  <clipPath id=\"p6825b44b8b\">\r\n   <rect height=\"217.44\" width=\"334.8\" x=\"28.942188\" y=\"7.2\"/>\r\n  </clipPath>\r\n </defs>\r\n</svg>\r\n",
      "image/png": "[encoded data removed]"
     },
     "metadata": {
      "needs_background": "light"
     }
    }
   ],
   "source": [
    "plt.scatter(X_train, y_train)\n",
    "plt.scatter(X_test, y_test)\n",
    "plt.plot(X_test, X_test*lr.coef_ +lr.intercept_)"
   ]
  },
  {
   "cell_type": "code",
   "execution_count": 5,
   "metadata": {},
   "outputs": [
    {
     "output_type": "stream",
     "name": "stdout",
     "text": [
      "точность на тренировочных данных: 0.69\nточность на тестовых данных: 0.63\n"
     ]
    }
   ],
   "source": [
    "print('точность на тренировочных данных: {:.2f}'.format(lr.score(X_train, y_train)))\n",
    "print('точность на тестовых данных: {:.2f}'.format(lr.score(X_test, y_test)))"
   ]
  },
  {
   "cell_type": "code",
   "execution_count": 6,
   "metadata": {},
   "outputs": [
    {
     "output_type": "execute_result",
     "data": {
      "text/plain": [
       "array([-0.74774302,  0.2578853 ,  0.80306544, -1.17592143, -1.60192362,\n",
       "       -1.08978037,  0.1967429 ,  1.38413782, -0.30800706, -1.5205635 ])"
      ]
     },
     "metadata": {},
     "execution_count": 6
    }
   ],
   "source": [
    "#Передаем набор с тестовыми признаками для прогноза y\n",
    "y_pred = lr.predict(X_test)\n",
    "y_pred"
   ]
  },
  {
   "cell_type": "code",
   "execution_count": 7,
   "metadata": {},
   "outputs": [],
   "source": [
    "from sklearn.datasets import load_boston\n",
    "boston = load_boston()"
   ]
  },
  {
   "cell_type": "code",
   "execution_count": 8,
   "metadata": {},
   "outputs": [
    {
     "output_type": "execute_result",
     "data": {
      "text/plain": [
       "dict_keys(['data', 'target', 'feature_names', 'DESCR', 'filename'])"
      ]
     },
     "metadata": {},
     "execution_count": 8
    }
   ],
   "source": [
    "boston.keys()"
   ]
  },
  {
   "cell_type": "code",
   "execution_count": 9,
   "metadata": {},
   "outputs": [
    {
     "output_type": "stream",
     "name": "stdout",
     "text": [
      ".. _boston_dataset:\n\nBoston house prices dataset\n---------------------------\n\n**Data Set Characteristics:**  \n\n    :Number of Instances: 506 \n\n    :Number of Attributes: 13 numeric/categorical predictive. Median Value (attribute 14) is usually the target.\n\n    :Attribute Information (in order):\n        - CRIM     per capita crime rate by town\n        - ZN       proportion of residential land zoned for lots over 25,000 sq.ft.\n        - INDUS    proportion of non-retail business acres per town\n        - CHAS     Charles River dummy variable (= 1 if tract bounds river; 0 otherwise)\n        - NOX      nitric oxides concentration (parts per 10 million)\n        - RM       average number of rooms per dwelling\n        - AGE      proportion of owner-occupied units built prior to 1940\n        - DIS      weighted distances to five Boston employment centres\n        - RAD      index of accessibility to radial highways\n        - TAX      full-value property-tax rate per $10,000\n        - PTRATIO  pupil-teacher ratio by town\n        - B        1000(Bk - 0.63)^2 where Bk is the proportion of blacks by town\n        - LSTAT    % lower status of the population\n        - MEDV     Median value of owner-occupied homes in $1000's\n\n    :Missing Attribute Values: None\n\n    :Creator: Harrison, D. and Rubinfeld, D.L.\n\nThis is a copy of UCI ML housing dataset.\nhttps://archive.ics.uci.edu/ml/machine-learning-databases/housing/\n\n\nThis dataset was taken from the StatLib library which is maintained at Carnegie Mellon University.\n\nThe Boston house-price data of Harrison, D. and Rubinfeld, D.L. 'Hedonic\nprices and the demand for clean air', J. Environ. Economics & Management,\nvol.5, 81-102, 1978.   Used in Belsley, Kuh & Welsch, 'Regression diagnostics\n...', Wiley, 1980.   N.B. Various transformations are used in the table on\npages 244-261 of the latter.\n\nThe Boston house-price data has been used in many machine learning papers that address regression\nproblems.   \n     \n.. topic:: References\n\n   - Belsley, Kuh & Welsch, 'Regression diagnostics: Identifying Influential Data and Sources of Collinearity', Wiley, 1980. 244-261.\n   - Quinlan,R. (1993). Combining Instance-Based and Model-Based Learning. In Proceedings on the Tenth International Conference of Machine Learning, 236-243, University of Massachusetts, Amherst. Morgan Kaufmann.\n\n"
     ]
    }
   ],
   "source": [
    "print(boston['DESCR'])"
   ]
  },
  {
   "cell_type": "markdown",
   "metadata": {},
   "source": [
    "Задание: изучить набор данных boston_house, применить линейный классификатор для прогноза медианной цены. Организовать DataFrame на основе тестовых данных(в качестве столбцов использовать признаки, значения y_test, значения y_pred, разницу между y_pred и y_test). Вывести полученные значения весовых коэффициентов и свободного b, вычислить точность."
   ]
  },
  {
   "cell_type": "code",
   "execution_count": 10,
   "metadata": {},
   "outputs": [
    {
     "output_type": "execute_result",
     "data": {
      "text/plain": [
       "((379, 13), (379,), (127, 13), (127,))"
      ]
     },
     "metadata": {},
     "execution_count": 10
    }
   ],
   "source": [
    "from sklearn.model_selection import train_test_split\n",
    "X_train, X_test, y_train, y_test = train_test_split(boston['data'], boston['target'], random_state = 3)\n",
    "X_train.shape, y_train.shape, X_test.shape, y_test.shape"
   ]
  },
  {
   "cell_type": "code",
   "execution_count": 11,
   "metadata": {},
   "outputs": [
    {
     "output_type": "stream",
     "name": "stdout",
     "text": [
      "lr coeff = [ -0.13   0.05  -0.03   3.33 -15.82   3.35   0.01  -1.31   0.32  -0.01\n  -0.95   0.01  -0.52]\nlr intercept =36.38321531227356\n"
     ]
    }
   ],
   "source": [
    "import numpy as np\n",
    "np.set_printoptions(precision=2, suppress=True)\n",
    "lr = LinearRegression().fit(X_train, y_train)\n",
    "print('lr coeff = {}'.format(lr.coef_))\n",
    "print('lr intercept ={}'.format(lr.intercept_))"
   ]
  },
  {
   "cell_type": "code",
   "execution_count": 12,
   "metadata": {},
   "outputs": [
    {
     "output_type": "stream",
     "name": "stdout",
     "text": [
      "точность на тренировочных данных: 0.73\nточность на тестовых данных: 0.77\n"
     ]
    }
   ],
   "source": [
    "print('точность на тренировочных данных: {:.2f}'.format(lr.score(X_train, y_train)))\n",
    "print('точность на тестовых данных: {:.2f}'.format(lr.score(X_test, y_test)))"
   ]
  },
  {
   "cell_type": "code",
   "execution_count": 13,
   "metadata": {},
   "outputs": [
    {
     "output_type": "execute_result",
     "data": {
      "text/plain": [
       "        CRIM    ZN  INDUS  CHAS    NOX     RM   AGE     DIS   RAD    TAX  \\\n",
       "0    0.31533   0.0   6.20   0.0  0.504  8.266  78.3  2.8944   8.0  307.0   \n",
       "1    0.35233   0.0  21.89   0.0  0.624  6.454  98.4  1.8498   4.0  437.0   \n",
       "2    8.24809   0.0  18.10   0.0  0.713  7.393  99.3  2.4527  24.0  666.0   \n",
       "3    0.10000  34.0   6.09   0.0  0.433  6.982  17.7  5.4917   7.0  329.0   \n",
       "4    0.04819  80.0   3.64   0.0  0.392  6.108  32.0  9.2203   1.0  315.0   \n",
       "..       ...   ...    ...   ...    ...    ...   ...     ...   ...    ...   \n",
       "122  5.87205   0.0  18.10   0.0  0.693  6.405  96.0  1.6768  24.0  666.0   \n",
       "123  0.10328  25.0   5.13   0.0  0.453  5.927  47.2  6.9320   8.0  284.0   \n",
       "124  0.28960   0.0   9.69   0.0  0.585  5.390  72.9  2.7986   6.0  391.0   \n",
       "125  0.13262   0.0   8.56   0.0  0.520  5.851  96.7  2.1069   5.0  384.0   \n",
       "126  0.22489  12.5   7.87   0.0  0.524  6.377  94.3  6.3467   5.0  311.0   \n",
       "\n",
       "     PTRATIO       B  LSTAT  y_test  y_pred  y_diff  \n",
       "0       17.4  385.05   4.14    44.8    37.3     7.5  \n",
       "1       21.2  394.08  14.59    17.1    18.7     1.6  \n",
       "2       20.2  375.87  16.74    17.8    22.5     4.7  \n",
       "3       16.1  390.43   4.86    33.1    32.5     0.6  \n",
       "4       16.4  392.89   6.57    21.9    24.9     3.0  \n",
       "..       ...     ...    ...     ...     ...     ...  \n",
       "122     20.2  396.90  19.37    12.5    19.6     7.1  \n",
       "123     19.7  396.90   9.22    19.6    21.7     2.1  \n",
       "124     19.2  396.90  21.14    19.7    14.4     5.3  \n",
       "125     20.9  394.05  16.47    19.5    18.6     0.9  \n",
       "126     15.2  392.52  20.45    15.0    19.5     4.5  \n",
       "\n",
       "[127 rows x 16 columns]"
      ],
      "text/html": "<div>\n<style scoped>\n    .dataframe tbody tr th:only-of-type {\n        vertical-align: middle;\n    }\n\n    .dataframe tbody tr th {\n        vertical-align: top;\n    }\n\n    .dataframe thead th {\n        text-align: right;\n    }\n</style>\n<table border=\"1\" class=\"dataframe\">\n  <thead>\n    <tr style=\"text-align: right;\">\n      <th></th>\n      <th>CRIM</th>\n      <th>ZN</th>\n      <th>INDUS</th>\n      <th>CHAS</th>\n      <th>NOX</th>\n      <th>RM</th>\n      <th>AGE</th>\n      <th>DIS</th>\n      <th>RAD</th>\n      <th>TAX</th>\n      <th>PTRATIO</th>\n      <th>B</th>\n      <th>LSTAT</th>\n      <th>y_test</th>\n      <th>y_pred</th>\n      <th>y_diff</th>\n    </tr>\n  </thead>\n  <tbody>\n    <tr>\n      <th>0</th>\n      <td>0.31533</td>\n      <td>0.0</td>\n      <td>6.20</td>\n      <td>0.0</td>\n      <td>0.504</td>\n      <td>8.266</td>\n      <td>78.3</td>\n      <td>2.8944</td>\n      <td>8.0</td>\n      <td>307.0</td>\n      <td>17.4</td>\n      <td>385.05</td>\n      <td>4.14</td>\n      <td>44.8</td>\n      <td>37.3</td>\n      <td>7.5</td>\n    </tr>\n    <tr>\n      <th>1</th>\n      <td>0.35233</td>\n      <td>0.0</td>\n      <td>21.89</td>\n      <td>0.0</td>\n      <td>0.624</td>\n      <td>6.454</td>\n      <td>98.4</td>\n      <td>1.8498</td>\n      <td>4.0</td>\n      <td>437.0</td>\n      <td>21.2</td>\n      <td>394.08</td>\n      <td>14.59</td>\n      <td>17.1</td>\n      <td>18.7</td>\n      <td>1.6</td>\n    </tr>\n    <tr>\n      <th>2</th>\n      <td>8.24809</td>\n      <td>0.0</td>\n      <td>18.10</td>\n      <td>0.0</td>\n      <td>0.713</td>\n      <td>7.393</td>\n      <td>99.3</td>\n      <td>2.4527</td>\n      <td>24.0</td>\n      <td>666.0</td>\n      <td>20.2</td>\n      <td>375.87</td>\n      <td>16.74</td>\n      <td>17.8</td>\n      <td>22.5</td>\n      <td>4.7</td>\n    </tr>\n    <tr>\n      <th>3</th>\n      <td>0.10000</td>\n      <td>34.0</td>\n      <td>6.09</td>\n      <td>0.0</td>\n      <td>0.433</td>\n      <td>6.982</td>\n      <td>17.7</td>\n      <td>5.4917</td>\n      <td>7.0</td>\n      <td>329.0</td>\n      <td>16.1</td>\n      <td>390.43</td>\n      <td>4.86</td>\n      <td>33.1</td>\n      <td>32.5</td>\n      <td>0.6</td>\n    </tr>\n    <tr>\n      <th>4</th>\n      <td>0.04819</td>\n      <td>80.0</td>\n      <td>3.64</td>\n      <td>0.0</td>\n      <td>0.392</td>\n      <td>6.108</td>\n      <td>32.0</td>\n      <td>9.2203</td>\n      <td>1.0</td>\n      <td>315.0</td>\n      <td>16.4</td>\n      <td>392.89</td>\n      <td>6.57</td>\n      <td>21.9</td>\n      <td>24.9</td>\n      <td>3.0</td>\n    </tr>\n    <tr>\n      <th>...</th>\n      <td>...</td>\n      <td>...</td>\n      <td>...</td>\n      <td>...</td>\n      <td>...</td>\n      <td>...</td>\n      <td>...</td>\n      <td>...</td>\n      <td>...</td>\n      <td>...</td>\n      <td>...</td>\n      <td>...</td>\n      <td>...</td>\n      <td>...</td>\n      <td>...</td>\n      <td>...</td>\n    </tr>\n    <tr>\n      <th>122</th>\n      <td>5.87205</td>\n      <td>0.0</td>\n      <td>18.10</td>\n      <td>0.0</td>\n      <td>0.693</td>\n      <td>6.405</td>\n      <td>96.0</td>\n      <td>1.6768</td>\n      <td>24.0</td>\n      <td>666.0</td>\n      <td>20.2</td>\n      <td>396.90</td>\n      <td>19.37</td>\n      <td>12.5</td>\n      <td>19.6</td>\n      <td>7.1</td>\n    </tr>\n    <tr>\n      <th>123</th>\n      <td>0.10328</td>\n      <td>25.0</td>\n      <td>5.13</td>\n      <td>0.0</td>\n      <td>0.453</td>\n      <td>5.927</td>\n      <td>47.2</td>\n      <td>6.9320</td>\n      <td>8.0</td>\n      <td>284.0</td>\n      <td>19.7</td>\n      <td>396.90</td>\n      <td>9.22</td>\n      <td>19.6</td>\n      <td>21.7</td>\n      <td>2.1</td>\n    </tr>\n    <tr>\n      <th>124</th>\n      <td>0.28960</td>\n      <td>0.0</td>\n      <td>9.69</td>\n      <td>0.0</td>\n      <td>0.585</td>\n      <td>5.390</td>\n      <td>72.9</td>\n      <td>2.7986</td>\n      <td>6.0</td>\n      <td>391.0</td>\n      <td>19.2</td>\n      <td>396.90</td>\n      <td>21.14</td>\n      <td>19.7</td>\n      <td>14.4</td>\n      <td>5.3</td>\n    </tr>\n    <tr>\n      <th>125</th>\n      <td>0.13262</td>\n      <td>0.0</td>\n      <td>8.56</td>\n      <td>0.0</td>\n      <td>0.520</td>\n      <td>5.851</td>\n      <td>96.7</td>\n      <td>2.1069</td>\n      <td>5.0</td>\n      <td>384.0</td>\n      <td>20.9</td>\n      <td>394.05</td>\n      <td>16.47</td>\n      <td>19.5</td>\n      <td>18.6</td>\n      <td>0.9</td>\n    </tr>\n    <tr>\n      <th>126</th>\n      <td>0.22489</td>\n      <td>12.5</td>\n      <td>7.87</td>\n      <td>0.0</td>\n      <td>0.524</td>\n      <td>6.377</td>\n      <td>94.3</td>\n      <td>6.3467</td>\n      <td>5.0</td>\n      <td>311.0</td>\n      <td>15.2</td>\n      <td>392.52</td>\n      <td>20.45</td>\n      <td>15.0</td>\n      <td>19.5</td>\n      <td>4.5</td>\n    </tr>\n  </tbody>\n</table>\n<p>127 rows × 16 columns</p>\n</div>"
     },
     "metadata": {},
     "execution_count": 13
    }
   ],
   "source": [
    "import pandas as pd\n",
    "df = pd.DataFrame(X_test, columns=boston['feature_names'])\n",
    "y_pred = np.round(lr.predict(X_test), 1)\n",
    "df['y_test'] = y_test\n",
    "df['y_pred'] = y_pred\n",
    "df['y_diff'] = np.abs(y_test - y_pred)\n",
    "df"
   ]
  },
  {
   "cell_type": "code",
   "execution_count": 14,
   "metadata": {},
   "outputs": [
    {
     "output_type": "stream",
     "name": "stdout",
     "text": [
      "Медиана от предсказанных 21.9\nМедиана от входных данных 21.0\n"
     ]
    }
   ],
   "source": [
    "print('Медиана от предсказанных {}'.format(np.median(y_pred)))\n",
    "print('Медиана от входных данных {}'.format(np.median(y_test)))"
   ]
  },
  {
   "cell_type": "code",
   "execution_count": 15,
   "metadata": {},
   "outputs": [
    {
     "output_type": "execute_result",
     "data": {
      "text/plain": [
       "array([0.04, 0.01, 0.06, 0.02, 0.04, 0.27, 0.02, 0.03, 0.02, 0.03, 0.05,\n",
       "       0.02, 0.39])"
      ]
     },
     "metadata": {},
     "execution_count": 15
    }
   ],
   "source": [
    "from sklearn.ensemble import ExtraTreesRegressor\n",
    "forest = ExtraTreesRegressor().fit(X_train, y_train)\n",
    "importances_forest = forest.feature_importances_\n",
    "importances_forest"
   ]
  },
  {
   "cell_type": "code",
   "execution_count": 16,
   "metadata": {},
   "outputs": [
    {
     "output_type": "execute_result",
     "data": {
      "text/plain": [
       "array([0.02, 0.02, 0.01, 0.01, 0.29, 0.69, 0.01, 0.16, 0.1 , 0.14, 0.57,\n",
       "       0.12, 0.22])"
      ]
     },
     "metadata": {},
     "execution_count": 16
    }
   ],
   "source": [
    "from sklearn.preprocessing import normalize\n",
    "norm = np.apply_along_axis(lambda x: np.mean(x), 0, X_train)\n",
    "importances_calculated = normalize(np.abs([lr.coef_ * norm]))[0]\n",
    "importances_calculated"
   ]
  },
  {
   "cell_type": "code",
   "execution_count": 17,
   "metadata": {},
   "outputs": [
    {
     "output_type": "execute_result",
     "data": {
      "text/plain": [
       "       CRIM        ZN     INDUS      CHAS       NOX        RM       AGE  \\\n",
       "0  0.043816  0.009542  0.062601  0.018798  0.038036  0.269482  0.020649   \n",
       "1  0.015052  0.017955  0.011920  0.007736  0.286342  0.687086  0.013524   \n",
       "\n",
       "        DIS       RAD       TAX   PTRATIO         B     LSTAT  \n",
       "0  0.033485  0.017122  0.029229  0.045000  0.019899  0.392341  \n",
       "1  0.161895  0.100830  0.140653  0.571581  0.124253  0.216067  "
      ],
      "text/html": "<div>\n<style scoped>\n    .dataframe tbody tr th:only-of-type {\n        vertical-align: middle;\n    }\n\n    .dataframe tbody tr th {\n        vertical-align: top;\n    }\n\n    .dataframe thead th {\n        text-align: right;\n    }\n</style>\n<table border=\"1\" class=\"dataframe\">\n  <thead>\n    <tr style=\"text-align: right;\">\n      <th></th>\n      <th>CRIM</th>\n      <th>ZN</th>\n      <th>INDUS</th>\n      <th>CHAS</th>\n      <th>NOX</th>\n      <th>RM</th>\n      <th>AGE</th>\n      <th>DIS</th>\n      <th>RAD</th>\n      <th>TAX</th>\n      <th>PTRATIO</th>\n      <th>B</th>\n      <th>LSTAT</th>\n    </tr>\n  </thead>\n  <tbody>\n    <tr>\n      <th>0</th>\n      <td>0.043816</td>\n      <td>0.009542</td>\n      <td>0.062601</td>\n      <td>0.018798</td>\n      <td>0.038036</td>\n      <td>0.269482</td>\n      <td>0.020649</td>\n      <td>0.033485</td>\n      <td>0.017122</td>\n      <td>0.029229</td>\n      <td>0.045000</td>\n      <td>0.019899</td>\n      <td>0.392341</td>\n    </tr>\n    <tr>\n      <th>1</th>\n      <td>0.015052</td>\n      <td>0.017955</td>\n      <td>0.011920</td>\n      <td>0.007736</td>\n      <td>0.286342</td>\n      <td>0.687086</td>\n      <td>0.013524</td>\n      <td>0.161895</td>\n      <td>0.100830</td>\n      <td>0.140653</td>\n      <td>0.571581</td>\n      <td>0.124253</td>\n      <td>0.216067</td>\n    </tr>\n  </tbody>\n</table>\n</div>"
     },
     "metadata": {},
     "execution_count": 17
    }
   ],
   "source": [
    "pd.DataFrame([importances_forest, importances_calculated], columns=boston['feature_names'])"
   ]
  },
  {
   "cell_type": "code",
   "execution_count": 18,
   "metadata": {},
   "outputs": [
    {
     "output_type": "execute_result",
     "data": {
      "text/plain": [
       "((379, 104), (127, 104))"
      ]
     },
     "metadata": {},
     "execution_count": 18
    }
   ],
   "source": [
    "from itertools import combinations\n",
    "\n",
    "def extend_data(data):\n",
    "    index = range(data.shape[1])\n",
    "    combinated = np.array([data[:, i] * data[:, j] for i, j in combinations(index, 2)]).T\n",
    "    extended = np.append(data, data ** 2, 1)\n",
    "    extended = np.append(extended, combinated, 1)\n",
    "    return extended\n",
    "\n",
    "X_train_extended = extend_data(X_train)\n",
    "X_test_extended = extend_data(X_test)\n",
    "X_train_extended.shape, X_test_extended.shape"
   ]
  },
  {
   "cell_type": "code",
   "execution_count": 19,
   "metadata": {},
   "outputs": [
    {
     "output_type": "stream",
     "name": "stdout",
     "text": [
      "точность на тренировочных данных: 0.93\nточность на тестовых данных: 0.84\nlr coeff = [ -7.42  -0.51  -6.38  29.66  79.65  20.34   1.08  -7.16   3.87  -0.01\n   2.29  -0.09   0.45   0.    -0.     0.04  29.66 -16.14   0.11   0.\n   0.42  -0.15  -0.     0.05  -0.     0.03   0.2   -0.27   2.87   0.47\n   0.03  -0.    -0.13  -0.57   0.04   0.    -0.     0.    -0.01  -0.13\n  -1.15   0.04   0.     0.    -0.01   0.    -0.01   0.    -0.    -0.12\n   2.39   0.22   0.     0.22  -0.08   0.    -0.02   0.01  -0.   -38.86\n  -3.83  -0.07  -0.59  -0.46   0.02  -1.09   0.03  -0.24   5.34  -0.41\n  17.32  -2.43   0.16 -11.5    0.     0.53  -0.08   0.11  -0.09  -0.02\n  -0.49   0.    -0.09   0.     0.01  -0.    -0.    -0.    -0.01  -0.19\n  -0.    -0.16  -0.01   0.04   0.01  -0.11  -0.    -0.03   0.01  -0.\n  -0.     0.01   0.    -0.  ]\nlr intercept =-80.28451272758122\n"
     ]
    }
   ],
   "source": [
    "lr_extended = LinearRegression().fit(X_train_extended, y_train)\n",
    "print('точность на тренировочных данных: {:.2f}'.format(lr_extended.score(X_train_extended, y_train)))\n",
    "print('точность на тестовых данных: {:.2f}'.format(lr_extended.score(X_test_extended, y_test)))\n",
    "print('lr coeff = {}'.format(lr_extended.coef_))\n",
    "print('lr intercept ={}'.format(lr_extended.intercept_))"
   ]
  },
  {
   "cell_type": "code",
   "execution_count": null,
   "metadata": {},
   "outputs": [],
   "source": []
  }
 ],
 "metadata": {
  "kernelspec": {
   "display_name": "Python 3",
   "language": "python",
   "name": "python3"
  },
  "language_info": {
   "codemirror_mode": {
    "name": "ipython",
    "version": 3
   },
   "file_extension": ".py",
   "mimetype": "text/x-python",
   "name": "python",
   "nbconvert_exporter": "python",
   "pygments_lexer": "ipython3",
   "version": "3.9.0-final"
  }
 },
 "nbformat": 4,
 "nbformat_minor": 2
}